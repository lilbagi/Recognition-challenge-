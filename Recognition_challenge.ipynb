{
  "nbformat": 4,
  "nbformat_minor": 0,
  "metadata": {
    "colab": {
      "name": "Агасандян Богдан ИАД-2.ipynb",
      "version": "0.3.2",
      "provenance": []
    },
    "kernelspec": {
      "name": "python2",
      "display_name": "Python 2"
    },
    "accelerator": "GPU"
  },
  "cells": [
    {
      "metadata": {
        "id": "QnuM9oqUP0JM",
        "colab_type": "text"
      },
      "cell_type": "markdown",
      "source": [
        "# Imports"
      ]
    },
    {
      "metadata": {
        "ExecuteTime": {
          "end_time": "2018-11-11T21:30:33.658534Z",
          "start_time": "2018-11-11T21:30:33.346958Z"
        },
        "id": "rZfoNZQFP0JQ",
        "colab_type": "code",
        "colab": {}
      },
      "cell_type": "code",
      "source": [
        "import zipfile\n",
        "import numpy as np\n",
        "import pandas as pd\n",
        "import os\n",
        "import tqdm\n",
        "import matplotlib \n",
        "%matplotlib inline\n",
        "import matplotlib.pyplot as plt\n",
        "import csv"
      ],
      "execution_count": 0,
      "outputs": []
    },
    {
      "metadata": {
        "id": "vSE3Gci1v9u3",
        "colab_type": "code",
        "colab": {}
      },
      "cell_type": "code",
      "source": [
        "from google.colab import drive\n",
        "GOOGLE_DRIVE_MOUNT = \"/content/gdrive\"\n",
        "drive.mount(GOOGLE_DRIVE_MOUNT)"
      ],
      "execution_count": 0,
      "outputs": []
    },
    {
      "metadata": {
        "id": "x6zgnaoHP0JW",
        "colab_type": "text"
      },
      "cell_type": "markdown",
      "source": [
        "# Download data from Kaggle"
      ]
    },
    {
      "metadata": {
        "id": "KjMeD41yP0JX",
        "colab_type": "code",
        "outputId": "4ff7c585-d4f8-43cc-d216-d288b59a46a5",
        "colab": {
          "base_uri": "https://localhost:8080/",
          "height": 204
        }
      },
      "cell_type": "code",
      "source": [
        "# we need to use python 3 version of Kaggle!\n",
        "# remove python 2 version with `pip uninstall kaggle`\n",
        "! pip3 install kaggle --upgrade"
      ],
      "execution_count": 35,
      "outputs": [
        {
          "output_type": "stream",
          "text": [
            "Requirement already up-to-date: kaggle in /usr/local/lib/python3.6/dist-packages (1.5.0)\n",
            "Requirement already satisfied, skipping upgrade: six>=1.10 in /usr/local/lib/python3.6/dist-packages (from kaggle) (1.11.0)\n",
            "Requirement already satisfied, skipping upgrade: requests in /usr/local/lib/python3.6/dist-packages (from kaggle) (2.18.4)\n",
            "Requirement already satisfied, skipping upgrade: certifi in /usr/local/lib/python3.6/dist-packages (from kaggle) (2018.10.15)\n",
            "Requirement already satisfied, skipping upgrade: tqdm in /usr/local/lib/python3.6/dist-packages (from kaggle) (4.28.1)\n",
            "Requirement already satisfied, skipping upgrade: urllib3<1.23.0,>=1.15 in /usr/local/lib/python3.6/dist-packages (from kaggle) (1.22)\n",
            "Requirement already satisfied, skipping upgrade: python-dateutil in /usr/local/lib/python3.6/dist-packages (from kaggle) (2.5.3)\n",
            "Requirement already satisfied, skipping upgrade: python-slugify in /usr/local/lib/python3.6/dist-packages (from kaggle) (1.2.6)\n",
            "Requirement already satisfied, skipping upgrade: chardet<3.1.0,>=3.0.2 in /usr/local/lib/python3.6/dist-packages (from requests->kaggle) (3.0.4)\n",
            "Requirement already satisfied, skipping upgrade: idna<2.7,>=2.5 in /usr/local/lib/python3.6/dist-packages (from requests->kaggle) (2.6)\n",
            "Requirement already satisfied, skipping upgrade: Unidecode>=0.04.16 in /usr/local/lib/python3.6/dist-packages (from python-slugify->kaggle) (1.0.22)\n"
          ],
          "name": "stdout"
        }
      ]
    },
    {
      "metadata": {
        "ExecuteTime": {
          "end_time": "2018-11-06T15:29:19.895974Z",
          "start_time": "2018-11-06T15:26:21.334564Z"
        },
        "id": "K3aLnTXNP0Jb",
        "colab_type": "code",
        "outputId": "3db95d7d-fbaf-410f-c81c-6e53cc252298",
        "colab": {
          "base_uri": "https://localhost:8080/",
          "height": 34
        }
      },
      "cell_type": "code",
      "source": [
        "# get <token> from https://www.kaggle.com/<user>/account, click \"Create New API Token\", open json file\n",
        "! KAGGLE_USERNAME=\"bosha7\" KAGGLE_KEY=\"5ad2af8e7aeadb331fff92431a54d056\" kaggle competitions download -c quickdraw-doodle-recognition -f train_simplified.zip"
      ],
      "execution_count": 36,
      "outputs": [
        {
          "output_type": "stream",
          "text": [
            "train_simplified.zip: Skipping, found more recently modified local copy (use --force to force download)\n"
          ],
          "name": "stdout"
        }
      ]
    },
    {
      "metadata": {
        "ExecuteTime": {
          "end_time": "2018-11-11T21:30:36.384943Z",
          "start_time": "2018-11-11T21:30:36.339315Z"
        },
        "id": "jXG-4GAnP0Jj",
        "colab_type": "code",
        "colab": {}
      },
      "cell_type": "code",
      "source": [
        "# open zip file, will read everything from it\n",
        "zf = zipfile.ZipFile(\"train_simplified.zip\")"
      ],
      "execution_count": 0,
      "outputs": []
    },
    {
      "metadata": {
        "id": "Um-23FgFP0Jm",
        "colab_type": "text"
      },
      "cell_type": "markdown",
      "source": [
        "# Data generators from disk (no need to store in RAM)"
      ]
    },
    {
      "metadata": {
        "ExecuteTime": {
          "end_time": "2018-11-11T21:30:37.151839Z",
          "start_time": "2018-11-11T21:30:37.140877Z"
        },
        "id": "hWNgO1yQP0Jo",
        "colab_type": "code",
        "outputId": "7a21b0eb-e538-41c6-8887-06c312fde23e",
        "colab": {
          "base_uri": "https://localhost:8080/",
          "height": 34
        }
      },
      "cell_type": "code",
      "source": [
        "class_labels = map(lambda x: x.replace(\".csv\", \"\"), zf.namelist())\n",
        "class_labels[:5]"
      ],
      "execution_count": 38,
      "outputs": [
        {
          "output_type": "execute_result",
          "data": {
            "text/plain": [
              "['fence', 'yoga', 'horse', 'sandwich', 'cat']"
            ]
          },
          "metadata": {
            "tags": []
          },
          "execution_count": 38
        }
      ]
    },
    {
      "metadata": {
        "ExecuteTime": {
          "end_time": "2018-11-11T21:30:37.621785Z",
          "start_time": "2018-11-11T21:30:37.615369Z"
        },
        "id": "XjOfKKtdP0Ju",
        "colab_type": "code",
        "colab": {}
      },
      "cell_type": "code",
      "source": [
        "# loop through file eternally\n",
        "def get_eternal_csv_generator(fn, debug=False):\n",
        "    while True:\n",
        "        with zf.open(fn) as f:\n",
        "            f.readline()  # skip header\n",
        "            for line in csv.reader(f, delimiter=',', quotechar='\"'):\n",
        "                yield line[1], line[5]\n",
        "            if debug:\n",
        "                print fn, \"is done, starting from the beginning...\""
      ],
      "execution_count": 0,
      "outputs": []
    },
    {
      "metadata": {
        "ExecuteTime": {
          "end_time": "2018-11-11T21:30:39.009017Z",
          "start_time": "2018-11-11T21:30:39.000280Z"
        },
        "id": "kT8RAxzVP0Jx",
        "colab_type": "code",
        "colab": {}
      },
      "cell_type": "code",
      "source": [
        "def raw_batch_generator(batch_size, debug=False):\n",
        "    generators = np.array([get_eternal_csv_generator(fn, debug) for fn in zf.namelist()])\n",
        "    while True:\n",
        "        random_indices = np.random.randint(0, len(generators), size=batch_size)\n",
        "        yield [gen.next() for gen in generators[random_indices]]"
      ],
      "execution_count": 0,
      "outputs": []
    },
    {
      "metadata": {
        "id": "d_aae8r9P0J1",
        "colab_type": "text"
      },
      "cell_type": "markdown",
      "source": [
        "# Images generator"
      ]
    },
    {
      "metadata": {
        "ExecuteTime": {
          "end_time": "2018-11-11T21:52:36.485406Z",
          "start_time": "2018-11-11T21:52:36.472025Z"
        },
        "id": "lZ3_cea-P0J4",
        "colab_type": "code",
        "colab": {}
      },
      "cell_type": "code",
      "source": [
        "# copy-paste from https://www.kaggle.com/jpmiller/image-based-cnn\n",
        "\n",
        "import ast\n",
        "from PIL import Image, ImageDraw\n",
        "import cv2\n",
        "\n",
        "IMG_SIZE = 128\n",
        "\n",
        "# faster conversion function\n",
        "def draw_it(strokes):\n",
        "    img = 255 * np.ones((256, 256), np.uint8)\n",
        "    for stroke in ast.literal_eval(strokes):\n",
        "        for i in range(len(stroke[0]) - 1):\n",
        "            _ = cv2.line(img, (stroke[0][i], stroke[1][i]), (stroke[0][i + 1], stroke[1][i + 1]), 0, 3)\n",
        "    return cv2.resize(img, (IMG_SIZE, IMG_SIZE))"
      ],
      "execution_count": 0,
      "outputs": []
    },
    {
      "metadata": {
        "id": "5VTqxXfXkPJL",
        "colab_type": "code",
        "colab": {}
      },
      "cell_type": "code",
      "source": [
        "from keras.preprocessing.image import ImageDataGenerator\n",
        "\n",
        "image_gen = ImageDataGenerator(\n",
        "    rotation_range=90,\n",
        "    shear_range=0.2,\n",
        "    zoom_range=0.2,\n",
        "    horizontal_flip = True,\n",
        "    fill_mode='constant',\n",
        "    cval=255\n",
        ")\n",
        "\n",
        "def images_and_labels_generator_augmentation(batch_size):\n",
        "    for batch in raw_batch_generator(batch_size):\n",
        "        batch_images = []\n",
        "        batch_labels = []\n",
        "        for e in batch:\n",
        "            image = draw_it(e[0])\n",
        "            image = np.tile(np.expand_dims(image, axis=2), (1, 1, 3))\n",
        "            for s in range(2):\n",
        "              batch_images.append(image_gen.random_transform(image)[:, :, 0])\n",
        "              batch_labels.append(e[1])\n",
        "        batch_images = np.stack(batch_images, axis=0)\n",
        "        yield batch_images, batch_labels"
      ],
      "execution_count": 0,
      "outputs": []
    },
    {
      "metadata": {
        "ExecuteTime": {
          "end_time": "2018-11-11T21:52:37.855100Z",
          "start_time": "2018-11-11T21:52:37.845212Z"
        },
        "id": "ZqXV3QW1P0J7",
        "colab_type": "code",
        "colab": {}
      },
      "cell_type": "code",
      "source": [
        "def images_and_labels_generator(batch_size):\n",
        "    for batch in raw_batch_generator(batch_size):\n",
        "        batch_images = []\n",
        "        batch_labels = []\n",
        "        for e in batch:\n",
        "            batch_images.append(draw_it(e[0]))\n",
        "            batch_labels.append(e[1])\n",
        "        batch_images = np.stack(batch_images, axis=0)\n",
        "        yield batch_images, batch_labels"
      ],
      "execution_count": 0,
      "outputs": []
    },
    {
      "metadata": {
        "ExecuteTime": {
          "end_time": "2018-11-11T21:53:06.996766Z",
          "start_time": "2018-11-11T21:53:06.864570Z"
        },
        "id": "fFSg1_JsP0KB",
        "colab_type": "code",
        "outputId": "349df51d-4ba7-410c-8cfc-2d01495180cf",
        "colab": {
          "base_uri": "https://localhost:8080/",
          "height": 280
        }
      },
      "cell_type": "code",
      "source": [
        "b = images_and_labels_generator_augmentation(32).next()\n",
        "plt.imshow(b[0][10, :, :])\n",
        "plt.title(b[1][10])\n",
        "plt.show()"
      ],
      "execution_count": 44,
      "outputs": [
        {
          "output_type": "display_data",
          "data": {
            "image/png": "[encoded data removed]",
            "text/plain": [
              "<matplotlib.figure.Figure at 0x7f4f1a394090>"
            ]
          },
          "metadata": {
            "tags": []
          }
        }
      ]
    },
    {
      "metadata": {
        "id": "CJUTWmQVP0KI",
        "colab_type": "text"
      },
      "cell_type": "markdown",
      "source": [
        "# Augmentation example"
      ]
    },
    {
      "metadata": {
        "ExecuteTime": {
          "end_time": "2018-11-11T21:53:24.422083Z",
          "start_time": "2018-11-11T21:53:23.961929Z"
        },
        "scrolled": true,
        "id": "2JctIR3oP0KK",
        "colab_type": "code",
        "outputId": "1baae193-f74d-4ef3-c0d5-39786f5c186f",
        "colab": {
          "base_uri": "https://localhost:8080/",
          "height": 1272
        }
      },
      "cell_type": "code",
      "source": [
        "from keras.preprocessing.image import ImageDataGenerator\n",
        "\n",
        "image_gen = ImageDataGenerator(\n",
        "    rotation_range=40,\n",
        "    shear_range=0.2,\n",
        "    zoom_range=0.2,\n",
        "    fill_mode='constant',\n",
        "    cval=255\n",
        ")\n",
        "\n",
        "image = b[0][10, :, :]\n",
        "\n",
        "# add 3 channels to image\n",
        "image = np.tile(np.expand_dims(image, axis=2), (1, 1, 3))\n",
        "\n",
        "# 5 random augmentations\n",
        "for _ in range(5):\n",
        "    plt.imshow(image_gen.random_transform(image)[:, :, 0])\n",
        "    plt.show()"
      ],
      "execution_count": 25,
      "outputs": [
        {
          "output_type": "display_data",
          "data": {
            "image/png": "[encoded data removed]",
            "text/plain": [
              "<matplotlib.figure.Figure at 0x7fe1d642d710>"
            ]
          },
          "metadata": {
            "tags": []
          }
        },
        {
          "output_type": "display_data",
          "data": {
            "image/png": "[encoded data removed]",
            "text/plain": [
              "<matplotlib.figure.Figure at 0x7fe1d4246ed0>"
            ]
          },
          "metadata": {
            "tags": []
          }
        },
        {
          "output_type": "display_data",
          "data": {
            "image/png": "[encoded data removed]",
            "text/plain": [
              "<matplotlib.figure.Figure at 0x7fe1d6306910>"
            ]
          },
          "metadata": {
            "tags": []
          }
        },
        {
          "output_type": "display_data",
          "data": {
            "image/png": "[encoded data removed]",
            "text/plain": [
              "<matplotlib.figure.Figure at 0x7fe1d429b4d0>"
            ]
          },
          "metadata": {
            "tags": []
          }
        },
        {
          "output_type": "display_data",
          "data": {
            "image/png": "[encoded data removed]",
            "text/plain": [
              "<matplotlib.figure.Figure at 0x7fe1d6336090>"
            ]
          },
          "metadata": {
            "tags": []
          }
        }
      ]
    },
    {
      "metadata": {
        "ExecuteTime": {
          "end_time": "2018-11-06T22:00:38.205119Z",
          "start_time": "2018-11-06T22:00:38.199739Z"
        },
        "id": "luey2TE6P0KR",
        "colab_type": "text"
      },
      "cell_type": "markdown",
      "source": [
        "# Train simple network"
      ]
    },
    {
      "metadata": {
        "ExecuteTime": {
          "end_time": "2018-11-07T16:09:43.935122Z",
          "start_time": "2018-11-07T16:09:43.339804Z"
        },
        "id": "T4rY2u7gP0KS",
        "colab_type": "code",
        "colab": {}
      },
      "cell_type": "code",
      "source": [
        "import tensorflow as tf\n",
        "import keras\n",
        "from keras import backend as K"
      ],
      "execution_count": 0,
      "outputs": []
    },
    {
      "metadata": {
        "ExecuteTime": {
          "end_time": "2018-11-07T16:10:14.627454Z",
          "start_time": "2018-11-07T16:10:14.614258Z"
        },
        "id": "9VYJV3tNP0KY",
        "colab_type": "code",
        "colab": {}
      },
      "cell_type": "code",
      "source": [
        "# reset graph when you change architecture!\n",
        "def reset_tf_session():\n",
        "    curr_session = tf.get_default_session()\n",
        "    # close current session\n",
        "    if curr_session is not None:\n",
        "        curr_session.close()\n",
        "    # reset graph\n",
        "    K.clear_session()\n",
        "    # create new session\n",
        "    config = tf.ConfigProto()\n",
        "    config.gpu_options.allow_growth = True\n",
        "    s = tf.InteractiveSession(config=config)\n",
        "    K.set_session(s)\n",
        "    return s"
      ],
      "execution_count": 0,
      "outputs": []
    },
    {
      "metadata": {
        "ExecuteTime": {
          "end_time": "2018-11-07T16:10:20.833559Z",
          "start_time": "2018-11-07T16:10:20.820480Z"
        },
        "scrolled": false,
        "id": "7y9s5pJHP0Kd",
        "colab_type": "code",
        "outputId": "8ce034d0-a223-4b16-f21e-1bd4db04473e",
        "colab": {
          "base_uri": "https://localhost:8080/",
          "height": 102
        }
      },
      "cell_type": "code",
      "source": [
        "NUM_CLASSES = len(class_labels)\n",
        "class_to_idx = {c: idx for idx, c in enumerate(class_labels)}\n",
        "class_to_idx.items()[:5]"
      ],
      "execution_count": 47,
      "outputs": [
        {
          "output_type": "execute_result",
          "data": {
            "text/plain": [
              "[('snowman', 134),\n",
              " ('eyeglasses', 254),\n",
              " ('ceiling fan', 18),\n",
              " ('camel', 90),\n",
              " ('stove', 119)]"
            ]
          },
          "metadata": {
            "tags": []
          },
          "execution_count": 47
        }
      ]
    },
    {
      "metadata": {
        "ExecuteTime": {
          "end_time": "2018-11-07T16:11:58.574802Z",
          "start_time": "2018-11-07T16:11:58.565415Z"
        },
        "id": "Bszvx4gOP0Kr",
        "colab_type": "code",
        "colab": {}
      },
      "cell_type": "code",
      "source": [
        "def train_iterator(batch_size):\n",
        "    for batch in images_and_labels_generator(batch_size):\n",
        "        images = batch[0].astype('float32')\n",
        "        images = images/255-0.5\n",
        "        ### YOUR CODE HERE: normalize images!\n",
        "        images = np.expand_dims(images, -1)\n",
        "        labels = keras.utils.to_categorical(map(class_to_idx.get, batch[1]), NUM_CLASSES)\n",
        "        yield images, labels"
      ],
      "execution_count": 0,
      "outputs": []
    },
    {
      "metadata": {
        "id": "QziKTgELFSRn",
        "colab_type": "code",
        "colab": {}
      },
      "cell_type": "code",
      "source": [
        "def train_iterator_augmentation(batch_size):\n",
        "    for batch in images_and_labels_generator_augmentation(batch_size):\n",
        "        images = batch[0].astype('float32')\n",
        "        images = images/255-0.5\n",
        "        ### YOUR CODE HERE: normalize images!\n",
        "        images = np.expand_dims(images, -1)\n",
        "        labels = keras.utils.to_categorical(map(class_to_idx.get, batch[1]), NUM_CLASSES)\n",
        "        yield images, labels"
      ],
      "execution_count": 0,
      "outputs": []
    },
    {
      "metadata": {
        "ExecuteTime": {
          "end_time": "2018-11-07T16:11:59.923327Z",
          "start_time": "2018-11-07T16:11:59.898171Z"
        },
        "scrolled": true,
        "id": "futAdrrrP0Kv",
        "colab_type": "code",
        "outputId": "de44bcde-e4a3-410d-983d-adb3bfdf1ccc",
        "colab": {
          "base_uri": "https://localhost:8080/",
          "height": 51
        }
      },
      "cell_type": "code",
      "source": [
        "sample = train_iterator(32).next()\n",
        "print sample[0].shape\n",
        "print sample[1].shape"
      ],
      "execution_count": 50,
      "outputs": [
        {
          "output_type": "stream",
          "text": [
            "(32, 128, 128, 1)\n",
            "(32, 340)\n"
          ],
          "name": "stdout"
        }
      ]
    },
    {
      "metadata": {
        "ExecuteTime": {
          "end_time": "2018-11-07T16:12:13.491949Z",
          "start_time": "2018-11-07T16:12:13.485091Z"
        },
        "id": "uH0At6EEP0K5",
        "colab_type": "code",
        "colab": {}
      },
      "cell_type": "code",
      "source": [
        "# import necessary building blocks\n",
        "from keras.models import Sequential\n",
        "from keras.layers import Conv2D, MaxPooling2D,ZeroPadding2D, Reshape, DepthwiseConv2D, Flatten, Dense, Activation, Dropout, GlobalAveragePooling2D, \\\n",
        "    BatchNormalization\n",
        "from keras.applications import MobileNet\n",
        "from keras.layers.advanced_activations import LeakyReLU, ReLU, ELU"
      ],
      "execution_count": 0,
      "outputs": []
    },
    {
      "metadata": {
        "id": "5pcvuTJ31d2G",
        "colab_type": "text"
      },
      "cell_type": "markdown",
      "source": [
        "MODEL Mobilnet\n",
        "Данная модель на размере батча в 150 на 15 эпохах loss: 2.0341 - categorical_accuracy: 0.5128 - top_3_accuracy: 0.7189\n",
        "В данной модели была практически воспроизведена архитектура сети MobilNet, при большем батче на большем количестве эпох модель начинала переобучиваться, при добавлении Dropout проблема частично решалась\n",
        "Скор на кэгле около 0.6"
      ]
    },
    {
      "metadata": {
        "id": "Tf7_BM86Xzhf",
        "colab_type": "code",
        "colab": {}
      },
      "cell_type": "code",
      "source": [
        "  def make_model():\n",
        "    \"\"\"\n",
        "    Define your model architecture here.\n",
        "    Returns `Sequential` model.\n",
        "    \"\"\"\n",
        "    model = Sequential()  \n",
        "    \n",
        "    model.add(Conv2D(32,strides=2, kernel_size=(3, 3), padding='same', input_shape=(IMG_SIZE,IMG_SIZE, 1)))\n",
        "    model.add(BatchNormalization())\n",
        "    model.add(ReLU())\n",
        "    model.add(ZeroPadding2D())\n",
        "    model.add(DepthwiseConv2D(kernel_size=(3,3)))\n",
        "    model.add(BatchNormalization())\n",
        "    model.add(ReLU())\n",
        "    model.add(Conv2D(64, kernel_size=(1, 1), padding='same'))\n",
        "    model.add(BatchNormalization())\n",
        "    model.add(ReLU())\n",
        "    model.add(ZeroPadding2D())\n",
        "    model.add(DepthwiseConv2D(kernel_size=(3,3),strides=2))\n",
        "    model.add(BatchNormalization())\n",
        "    model.add(ReLU())\n",
        "    model.add(Conv2D(128, kernel_size=(1, 1), padding='same'))\n",
        "    model.add(BatchNormalization())\n",
        "    model.add(ReLU())\n",
        "    model.add(ZeroPadding2D())\n",
        "    model.add(DepthwiseConv2D(kernel_size=(3,3)))\n",
        "    model.add(BatchNormalization())\n",
        "    model.add(ReLU())\n",
        "    model.add(Conv2D(128,kernel_size=(1, 1), padding='same'))\n",
        "    model.add(BatchNormalization())\n",
        "    model.add(ReLU())\n",
        "    model.add(ZeroPadding2D())\n",
        "    model.add(DepthwiseConv2D(kernel_size=(3,3),strides=2))\n",
        "    model.add(BatchNormalization())\n",
        "    model.add(ReLU())\n",
        "    model.add(Conv2D(256, kernel_size=(1, 1), padding='same'))\n",
        "    model.add(BatchNormalization())\n",
        "    model.add(ReLU())\n",
        "    model.add(ZeroPadding2D())\n",
        "    model.add(DepthwiseConv2D(kernel_size=(3,3),strides=2))\n",
        "    model.add(BatchNormalization())\n",
        "    model.add(ReLU())\n",
        "    model.add(Conv2D(512, kernel_size=(1, 1), padding='same'))\n",
        "    model.add(BatchNormalization())\n",
        "    model.add(ReLU())\n",
        "    model.add(ZeroPadding2D())\n",
        "    model.add(DepthwiseConv2D(kernel_size=(3,3)))\n",
        "    model.add(BatchNormalization())\n",
        "    model.add(ReLU())\n",
        "    model.add(Conv2D(512, kernel_size=(1, 1), padding='same'))\n",
        "    model.add(BatchNormalization())\n",
        "    model.add(ReLU())\n",
        "    model.add(ZeroPadding2D())\n",
        "    model.add(DepthwiseConv2D(kernel_size=(3,3)))\n",
        "    model.add(BatchNormalization())\n",
        "    model.add(ReLU())\n",
        "    model.add(Conv2D(512, kernel_size=(1, 1), padding='same'))\n",
        "    model.add(BatchNormalization())\n",
        "    model.add(ReLU())\n",
        "    model.add(ZeroPadding2D())\n",
        "    model.add(DepthwiseConv2D(kernel_size=(3,3)))\n",
        "    model.add(BatchNormalization())\n",
        "    model.add(ReLU())\n",
        "    model.add(Conv2D(512, kernel_size=(1, 1), padding='same'))\n",
        "    model.add(BatchNormalization())\n",
        "    model.add(ReLU())\n",
        "    model.add(ZeroPadding2D())\n",
        "    model.add(DepthwiseConv2D(kernel_size=(3,3)))\n",
        "    model.add(BatchNormalization())\n",
        "    model.add(ReLU())\n",
        "    model.add(Conv2D(512, kernel_size=(1, 1), padding='same'))\n",
        "    model.add(BatchNormalization())\n",
        "    model.add(ReLU())\n",
        "    model.add(ZeroPadding2D())\n",
        "    model.add(DepthwiseConv2D(kernel_size=(3,3)))\n",
        "    model.add(BatchNormalization())\n",
        "    model.add(ReLU())\n",
        "    model.add(ZeroPadding2D())\n",
        "    model.add(DepthwiseConv2D(kernel_size=(3,3),strides=2))\n",
        "    model.add(BatchNormalization())\n",
        "    model.add(ReLU())\n",
        "    model.add(Conv2D(1024, kernel_size=(1, 1), padding='same'))\n",
        "    model.add(BatchNormalization())\n",
        "    model.add(ReLU())\n",
        "    model.add(ZeroPadding2D())\n",
        "    model.add(DepthwiseConv2D(kernel_size=(3,3)))\n",
        "    model.add(BatchNormalization())\n",
        "    model.add(ReLU())\n",
        "    model.add(Conv2D(1024, kernel_size=(1, 1), padding='same'))\n",
        "    model.add(BatchNormalization())\n",
        "    model.add(ReLU())\n",
        "    model.add(GlobalAveragePooling2D())\n",
        "    model.add(Reshape((1,1,1024)))\n",
        "    model.add(Dropout(0.5))\n",
        "    model.add(Conv2D(NUM_CLASSES, kernel_size=(1, 1), padding='same'))\n",
        "    model.add(Activation('softmax'))\n",
        "    model.add(Reshape((NUM_CLASSES,)))\n",
        "    \n",
        "    return model"
      ],
      "execution_count": 0,
      "outputs": []
    },
    {
      "metadata": {
        "id": "tNXJd2_Caiet",
        "colab_type": "text"
      },
      "cell_type": "markdown",
      "source": [
        "Данная модель на размере батча в 150 на 15 эпохах  loss 3.4064 - categorical_accuracy: 0.2525 - top_3_accuracy: 0.4415\n",
        "Из-за недостаточного количества фильтров, свертка не могла находить нужные закономерности\n",
        "Также по сравнению с лучшей моделью здесь была использована другая функция активации"
      ]
    },
    {
      "metadata": {
        "ExecuteTime": {
          "end_time": "2018-11-07T16:15:15.162847Z",
          "start_time": "2018-11-07T16:15:15.148961Z"
        },
        "id": "A034jXuuP0K9",
        "colab_type": "code",
        "colab": {}
      },
      "cell_type": "code",
      "source": [
        "def make_model():\n",
        "    \"\"\"\n",
        "    Define your model architecture here.\n",
        "    Returns `Sequential` model.\n",
        "    \"\"\"\n",
        "    model = Sequential()\n",
        "\n",
        "\n",
        "    ### YOUR CODE HERE: replace with a better model! Batch normalization really helps!\n",
        "    \n",
        "    model.add(Conv2D(32, kernel_size=(3, 3), padding='same', input_shape=(IMG_SIZE, IMG_SIZE, 1)))\n",
        "    model.add(MaxPooling2D(pool_size=(2, 2)))\n",
        "    model.add(Dropout(0.2))\n",
        "    \n",
        "    model.add(Conv2D(64, kernel_size=(3, 3), padding='same'))\n",
        "    model.add(MaxPooling2D(pool_size=(2, 2)))\n",
        "    model.add(Dropout(0.2))\n",
        "    \n",
        "    model.add(Conv2D(128, kernel_size=(3,3), padding='same'))\n",
        "    model.add(LeakyReLU(0.1))\n",
        "    model.add(BatchNormalization())\n",
        "    \n",
        "    model.add(Conv2D(256, kernel_size=(3,3), padding='same'))\n",
        "    model.add(LeakyReLU(0.1))\n",
        "    model.add(BatchNormalization())\n",
        "    \n",
        "    model.add(Conv2D(512, kernel_size=(3,3), padding='same'))\n",
        "    model.add(LeakyReLU(0.1))\n",
        "    \n",
        "    model.add(GlobalAveragePooling2D())\n",
        "    model.add(Dropout(0.2))\n",
        "    \n",
        "    model.add(Dense(680))\n",
        "    model.add(Activation('relu'))\n",
        "    model.add(BatchNormalization())\n",
        "    model.add(Dropout(0.5))\n",
        "    \n",
        "    model.add(Dense(NUM_CLASSES))\n",
        "    model.add(Activation('softmax'))\n",
        "\n",
        "    \n",
        "    return model"
      ],
      "execution_count": 0,
      "outputs": []
    },
    {
      "metadata": {
        "id": "Ga5sJYa-03ec",
        "colab_type": "text"
      },
      "cell_type": "markdown",
      "source": [
        "**MODEL BEST**\n",
        "Данная модель на размере батча в 150 на 15 эпохах loss: 2.0898 - categorical_accuracy: 0.5114 - top_3_accuracy: 0.7165\n",
        "на размере батча в 340 на 100 эпохах \n",
        "\n",
        "Закомментированные строчки также были использованы в ходе эксперимента, и оказалось, что пулинг, который уплотняет карту признаков и делает изображение более абстрактным(убирает некую подробность с кажды разом), лучше использовать после каждой второй конволюции.\n",
        "В конволюции следует последовательно увеличивать количество фильтров, также можно оставлять это количество неизменным на 2 слоя. Качество также увеличило то, что с последних слоев была убрана батчнормализация. \n",
        "Данная функция активация может давать отрицательные значения, способствует более быстрому схождению градиента. \n",
        "И были добавлены Dropout после пулинг слоев для избежания проблемы переобучения"
      ]
    },
    {
      "metadata": {
        "id": "pR85BJ_60yWU",
        "colab_type": "code",
        "colab": {}
      },
      "cell_type": "code",
      "source": [
        "def make_model():\n",
        "    \"\"\"\n",
        "    Define your model architecture here.\n",
        "    Returns `Sequential` model.\n",
        "    \"\"\"\n",
        "    model = Sequential()\n",
        "\n",
        "\n",
        "    ### YOUR CODE HERE: replace with a better model! Batch normalization really helps!\n",
        "    \n",
        "    model.add(Conv2D(32, kernel_size=(3, 3), padding='same', input_shape=(IMG_SIZE, IMG_SIZE, 1)))\n",
        "    #model.add(MaxPooling2D(pool_size=(2, 2)))\n",
        "    model.add(ELU(alpha=0.5))\n",
        "    model.add(BatchNormalization())\n",
        "    #model.add(Dropout(0.2))\n",
        "    \n",
        "    model.add(Conv2D(64, kernel_size=(3, 3), padding='same',strides=2))\n",
        "    model.add(ELU(alpha=0.5))\n",
        "    model.add(BatchNormalization())\n",
        "    model.add(MaxPooling2D(pool_size=(2, 2)))\n",
        "    model.add(Dropout(0.2))\n",
        "    \n",
        "    model.add(Conv2D(64, kernel_size=(3,3), padding='same'))\n",
        "    model.add(ELU(alpha=0.5))\n",
        "    model.add(BatchNormalization())\n",
        "    \n",
        "    model.add(Conv2D(128, kernel_size=(3,3), padding='same'))\n",
        "    model.add(ELU(alpha=0.5))\n",
        "    model.add(BatchNormalization())\n",
        "    model.add(MaxPooling2D(pool_size=(2, 2)))\n",
        "    model.add(Dropout(0.2))\n",
        "    \n",
        "    model.add(Conv2D(256, kernel_size=(3, 3), padding='same'))\n",
        "    model.add(ELU(alpha=0.5))\n",
        "    model.add(BatchNormalization())\n",
        "    #model.add(MaxPooling2D(pool_size=(2, 2)))\n",
        "    #model.add(Dropout(0.2))\n",
        "    \n",
        "    model.add(Conv2D(512, kernel_size=(3, 3), padding='same'))\n",
        "    model.add(ELU(alpha=0.5))\n",
        "    model.add(BatchNormalization())\n",
        "    model.add(MaxPooling2D(pool_size=(2, 2)))\n",
        "    model.add(Dropout(0.2))\n",
        "    \n",
        "    #model.add(Conv2D(512, kernel_size=(3, 3), padding='same'))\n",
        "    #model.add(ELU(alpha=0.5))\n",
        "    #model.add(BatchNormalization())\n",
        "    \n",
        "    model.add(Conv2D(1024, kernel_size=(3, 3), padding='same'))\n",
        "    model.add(ELU(alpha=0.5))\n",
        "    model.add(BatchNormalization())\n",
        "    #model.add(MaxPooling2D(pool_size=(2, 2)))\n",
        "    #model.add(Dropout(0.2))\n",
        "        \n",
        "    model.add(GlobalAveragePooling2D())\n",
        "    model.add(Dropout(0.3))\n",
        "    \n",
        "    model.add(Dense(680))\n",
        "    model.add(ELU(alpha=0.5))\n",
        "    #model.add(BatchNormalization())\n",
        "    model.add(Dropout(0.5))\n",
        "    \n",
        "    model.add(Dense(NUM_CLASSES))\n",
        "    model.add(Activation('softmax'))\n",
        "    \n",
        "    return model"
      ],
      "execution_count": 0,
      "outputs": []
    },
    {
      "metadata": {
        "ExecuteTime": {
          "end_time": "2018-11-07T16:15:16.796282Z",
          "start_time": "2018-11-07T16:15:16.726472Z"
        },
        "id": "EUQR8OmFP0LD",
        "colab_type": "code",
        "outputId": "f724baee-a202-4080-9faa-7ac915064c22",
        "colab": {
          "base_uri": "https://localhost:8080/",
          "height": 198
        }
      },
      "cell_type": "code",
      "source": [
        "# describe model\n",
        "s = reset_tf_session()  # clear default graph\n",
        "model = make_model()\n",
        "model.summary()"
      ],
      "execution_count": 2,
      "outputs": [
        {
          "output_type": "error",
          "ename": "NameError",
          "evalue": "ignored",
          "traceback": [
            "\u001b[0;31m\u001b[0m",
            "\u001b[0;31mNameError\u001b[0mTraceback (most recent call last)",
            "\u001b[0;32m<ipython-input-2-fc8acc88527a>\u001b[0m in \u001b[0;36m<module>\u001b[0;34m()\u001b[0m\n\u001b[0;32m----> 1\u001b[0;31m \u001b[0ms\u001b[0m \u001b[0;34m=\u001b[0m \u001b[0mreset_tf_session\u001b[0m\u001b[0;34m(\u001b[0m\u001b[0;34m)\u001b[0m  \u001b[0;31m# clear default graph\u001b[0m\u001b[0;34m\u001b[0m\u001b[0m\n\u001b[0m\u001b[1;32m      2\u001b[0m \u001b[0mmodel\u001b[0m \u001b[0;34m=\u001b[0m \u001b[0mmake_model\u001b[0m\u001b[0;34m(\u001b[0m\u001b[0;34m)\u001b[0m\u001b[0;34m\u001b[0m\u001b[0m\n\u001b[1;32m      3\u001b[0m \u001b[0mmodel\u001b[0m\u001b[0;34m.\u001b[0m\u001b[0msummary\u001b[0m\u001b[0;34m(\u001b[0m\u001b[0;34m)\u001b[0m\u001b[0;34m\u001b[0m\u001b[0m\n",
            "\u001b[0;31mNameError\u001b[0m: name 'reset_tf_session' is not defined"
          ]
        }
      ]
    },
    {
      "metadata": {
        "ExecuteTime": {
          "end_time": "2018-11-07T16:21:07.829654Z",
          "start_time": "2018-11-07T16:21:07.822122Z"
        },
        "id": "2ZmDmw8yP0LI",
        "colab_type": "code",
        "colab": {}
      },
      "cell_type": "code",
      "source": [
        "# custom metrics we need\n",
        "from keras.metrics import categorical_accuracy, top_k_categorical_accuracy\n",
        "\n",
        "def top_3_accuracy(y_true, y_pred):\n",
        "    return top_k_categorical_accuracy(y_true, y_pred, k=3)"
      ],
      "execution_count": 0,
      "outputs": []
    },
    {
      "metadata": {
        "id": "z1mlO4O2DtXm",
        "colab_type": "text"
      },
      "cell_type": "markdown",
      "source": [
        "Для экспериментов с аугментацией размер батча пришлось уменьшить до 150 не хватало памяти и рассматривать результат на 15 эпохе"
      ]
    },
    {
      "metadata": {
        "ExecuteTime": {
          "end_time": "2018-11-07T16:16:27.284265Z",
          "start_time": "2018-11-07T16:16:27.184294Z"
        },
        "id": "4qGGsEFXP0LL",
        "colab_type": "code",
        "colab": {
          "base_uri": "https://localhost:8080/",
          "height": 54
        },
        "outputId": "bf73f6ef-e9cc-4521-f446-5b6fb73ea002"
      },
      "cell_type": "code",
      "source": [
        "BATCH_SIZE = 340 #150 для сравнительных тестов с аугментацией и архитектурой\n",
        "STEPS_PER_EPOCH = 100\n",
        "EPOCHS = 100 #15 \n",
        "\n",
        "s = reset_tf_session()  # clear default graph\n",
        "model = make_model()  # define our model\n",
        "\n",
        "# prepare model for fitting (loss, optimizer, etc)\n",
        "model.compile(\n",
        "    loss='categorical_crossentropy',\n",
        "    optimizer=keras.optimizers.adam(clipnorm=5.),  # gradient clipping just in case\n",
        "    metrics=[categorical_accuracy, top_3_accuracy]  # report top 3 accuracy, correlates with MAP@3!\n",
        ")"
      ],
      "execution_count": 56,
      "outputs": [
        {
          "output_type": "stream",
          "text": [
            "Exception tensorflow.python.framework.errors_impl.CancelledError: CancelledError() in <bound method _Callable.__del__ of <tensorflow.python.client.session._Callable object at 0x7f4f19f3a610>> ignored\n"
          ],
          "name": "stderr"
        }
      ]
    },
    {
      "metadata": {
        "ExecuteTime": {
          "end_time": "2018-11-07T16:20:03.725667Z",
          "start_time": "2018-11-07T16:20:03.715510Z"
        },
        "id": "6aOyfyprP0LO",
        "colab_type": "code",
        "colab": {}
      },
      "cell_type": "code",
      "source": [
        "# for saving the model after every epoch\n",
        "from keras.models import save_model\n",
        "\n",
        "class ModelSaveCallback(keras.callbacks.Callback):\n",
        "    def __init__(self, file_name):\n",
        "        super(ModelSaveCallback, self).__init__()\n",
        "        self.file_name = file_name\n",
        "\n",
        "    def on_epoch_end(self, epoch, logs=None):\n",
        "        model_filename = self.file_name.format(epoch)\n",
        "        save_model(self.model, model_filename)\n",
        "        print(\"Model saved in {}\".format(model_filename))"
      ],
      "execution_count": 0,
      "outputs": []
    },
    {
      "metadata": {
        "id": "O1TN0m7_xdpw",
        "colab_type": "code",
        "colab": {}
      },
      "cell_type": "code",
      "source": [
        "import os\n",
        "GOOGLE_DRIVE_ROOT = GOOGLE_DRIVE_MOUNT + \"/\" + filter(lambda x: x[0] != '.', os.listdir(GOOGLE_DRIVE_MOUNT))[0]\n",
        "print GOOGLE_DRIVE_ROOT\n",
        "\n",
        "# will save checkpoints to Google Drive\n",
        "CHECKPOINT_TEMPLATE = GOOGLE_DRIVE_ROOT + \"/model_{}\"\n",
        "print CHECKPOINT_TEMPLATE"
      ],
      "execution_count": 0,
      "outputs": []
    },
    {
      "metadata": {
        "ExecuteTime": {
          "end_time": "2018-11-07T16:22:04.352396Z",
          "start_time": "2018-11-07T16:22:03.726954Z"
        },
        "id": "Dbgi4AVEP0LT",
        "colab_type": "code",
        "colab": {}
      },
      "cell_type": "code",
      "source": [
        "last_finished_epoch = 0\n",
        "\n",
        "# you can continue from snapshot!!!\n",
        "#from keras.models import load_model\n",
        "#s = reset_tf_session()\n",
        "#last_finished_epoch = 91\n",
        "#model = load_model(\"model_{}\".format(last_finished_epoch), \n",
        "#                  custom_objects={\"top_3_accuracy\": top_3_accuracy})"
      ],
      "execution_count": 0,
      "outputs": []
    },
    {
      "metadata": {
        "id": "lgVddVxXFw-6",
        "colab_type": "code",
        "colab": {
          "base_uri": "https://localhost:8080/",
          "height": 799
        },
        "outputId": "99e14549-9e04-4589-f538-bd6225e4800f"
      },
      "cell_type": "code",
      "source": [
        "#best model с аугментацией\n",
        "model.fit_generator(\n",
        "    train_iterator_augmentation(BATCH_SIZE), \n",
        "    steps_per_epoch=STEPS_PER_EPOCH,\n",
        "    epochs=EPOCHS,\n",
        "    callbacks=[ModelSaveCallback(\"model_{}\")],\n",
        "    verbose=1,\n",
        "    initial_epoch=last_finished_epoch\n",
        ")"
      ],
      "execution_count": 60,
      "outputs": [
        {
          "output_type": "stream",
          "text": [
            "Epoch 1/15\n",
            "100/100 [==============================] - 156s 2s/step - loss: 5.5902 - categorical_accuracy: 0.0156 - top_3_accuracy: 0.0397\n",
            "Model saved in model_0\n",
            "Epoch 2/15\n",
            "100/100 [==============================] - 154s 2s/step - loss: 5.1846 - categorical_accuracy: 0.0346 - top_3_accuracy: 0.0815\n",
            "Model saved in model_1\n",
            "Epoch 3/15\n",
            "100/100 [==============================] - 154s 2s/step - loss: 4.8601 - categorical_accuracy: 0.0591 - top_3_accuracy: 0.1308\n",
            "Model saved in model_2\n",
            "Epoch 4/15\n",
            "100/100 [==============================] - 155s 2s/step - loss: 4.6069 - categorical_accuracy: 0.0880 - top_3_accuracy: 0.1876\n",
            "Model saved in model_3\n",
            "Epoch 5/15\n",
            "100/100 [==============================] - 154s 2s/step - loss: 4.3614 - categorical_accuracy: 0.1153 - top_3_accuracy: 0.2331\n",
            "Model saved in model_4\n",
            "Epoch 6/15\n",
            "100/100 [==============================] - 155s 2s/step - loss: 4.0880 - categorical_accuracy: 0.1497 - top_3_accuracy: 0.2889\n",
            "Model saved in model_5\n",
            "Epoch 7/15\n",
            "100/100 [==============================] - 155s 2s/step - loss: 3.8574 - categorical_accuracy: 0.1841 - top_3_accuracy: 0.3391\n",
            "Model saved in model_6\n",
            "Epoch 8/15\n",
            "100/100 [==============================] - 154s 2s/step - loss: 3.6006 - categorical_accuracy: 0.2193 - top_3_accuracy: 0.3934\n",
            "Model saved in model_7\n",
            "Epoch 9/15\n",
            "100/100 [==============================] - 154s 2s/step - loss: 3.4558 - categorical_accuracy: 0.2497 - top_3_accuracy: 0.4298\n",
            "Model saved in model_8\n",
            "Epoch 10/15\n",
            "100/100 [==============================] - 154s 2s/step - loss: 3.2952 - categorical_accuracy: 0.2699 - top_3_accuracy: 0.4564\n",
            "Model saved in model_9\n",
            "Epoch 11/15\n",
            "100/100 [==============================] - 154s 2s/step - loss: 3.2223 - categorical_accuracy: 0.2847 - top_3_accuracy: 0.4765\n",
            "Model saved in model_10\n",
            "Epoch 12/15\n",
            "100/100 [==============================] - 154s 2s/step - loss: 3.1094 - categorical_accuracy: 0.3056 - top_3_accuracy: 0.5005\n",
            "Model saved in model_11\n",
            "Epoch 13/15\n",
            "100/100 [==============================] - 154s 2s/step - loss: 3.0488 - categorical_accuracy: 0.3195 - top_3_accuracy: 0.5159\n",
            "Model saved in model_12\n",
            "Epoch 14/15\n",
            "100/100 [==============================] - 154s 2s/step - loss: 2.9244 - categorical_accuracy: 0.3362 - top_3_accuracy: 0.5400\n",
            "Model saved in model_13\n",
            "Epoch 15/15\n",
            "100/100 [==============================] - 154s 2s/step - loss: 2.8621 - categorical_accuracy: 0.3511 - top_3_accuracy: 0.5525\n",
            "Model saved in model_14\n"
          ],
          "name": "stdout"
        },
        {
          "output_type": "execute_result",
          "data": {
            "text/plain": [
              "<keras.callbacks.History at 0x7f4f1a08b5d0>"
            ]
          },
          "metadata": {
            "tags": []
          },
          "execution_count": 60
        }
      ]
    },
    {
      "metadata": {
        "id": "z4UHV3CTKo5G",
        "colab_type": "text"
      },
      "cell_type": "markdown",
      "source": [
        "С аугментацией после 15 эпохи loss: 2.8621 - categorical_accuracy: 0.3511 - top_3_accuracy: 0.5525, также увеличилось время, т.к стало больше изображений из-за поворотов и различных преобразований с данными\n",
        "\n",
        "Без аугментации после 15 эпохи loss: 2.0898 - categorical_accuracy: 0.5114 - top_3_accuracy: 0.7165\n",
        "\n",
        "Также когда размер батча был 340 после 15 эпохи loss 1.7281 categorical_accuracy: 0.5852 - top_3_accuracy: 0.7799, т.е больший размер батча давал лучшее качество"
      ]
    },
    {
      "metadata": {
        "id": "wtd49_klHpEZ",
        "colab_type": "code",
        "colab": {
          "base_uri": "https://localhost:8080/",
          "height": 799
        },
        "outputId": "f047f62d-dbaa-447c-a471-2792da4fdda7"
      },
      "cell_type": "code",
      "source": [
        "# best model без аугментации\n",
        "model.fit_generator(\n",
        "    train_iterator(BATCH_SIZE), \n",
        "    steps_per_epoch=STEPS_PER_EPOCH,\n",
        "    epochs=EPOCHS,\n",
        "    callbacks=[ModelSaveCallback(\"model_{}\")],\n",
        "    verbose=1,\n",
        "    initial_epoch=last_finished_epoch\n",
        ")"
      ],
      "execution_count": 62,
      "outputs": [
        {
          "output_type": "stream",
          "text": [
            "Epoch 1/15\n",
            "100/100 [==============================] - 70s 695ms/step - loss: 5.2491 - categorical_accuracy: 0.0361 - top_3_accuracy: 0.0834\n",
            "Model saved in model_0\n",
            "Epoch 2/15\n",
            "100/100 [==============================] - 64s 641ms/step - loss: 4.4260 - categorical_accuracy: 0.1033 - top_3_accuracy: 0.2168\n",
            "Model saved in model_1\n",
            "Epoch 3/15\n",
            "100/100 [==============================] - 64s 641ms/step - loss: 3.9473 - categorical_accuracy: 0.1673 - top_3_accuracy: 0.3143\n",
            "Model saved in model_2\n",
            "Epoch 4/15\n",
            "100/100 [==============================] - 64s 641ms/step - loss: 3.5391 - categorical_accuracy: 0.2269 - top_3_accuracy: 0.4056\n",
            "Model saved in model_3\n",
            "Epoch 5/15\n",
            "100/100 [==============================] - 64s 641ms/step - loss: 3.2745 - categorical_accuracy: 0.2747 - top_3_accuracy: 0.4697\n",
            "Model saved in model_4\n",
            "Epoch 6/15\n",
            "100/100 [==============================] - 64s 640ms/step - loss: 3.0267 - categorical_accuracy: 0.3195 - top_3_accuracy: 0.5173\n",
            "Model saved in model_5\n",
            "Epoch 7/15\n",
            "100/100 [==============================] - 64s 639ms/step - loss: 2.8168 - categorical_accuracy: 0.3563 - top_3_accuracy: 0.5701\n",
            "Model saved in model_6\n",
            "Epoch 8/15\n",
            "100/100 [==============================] - 64s 644ms/step - loss: 2.6881 - categorical_accuracy: 0.3810 - top_3_accuracy: 0.5912\n",
            "Model saved in model_7\n",
            "Epoch 9/15\n",
            "100/100 [==============================] - 64s 643ms/step - loss: 2.5226 - categorical_accuracy: 0.4164 - top_3_accuracy: 0.6272\n",
            "Model saved in model_8\n",
            "Epoch 10/15\n",
            "100/100 [==============================] - 64s 644ms/step - loss: 2.4065 - categorical_accuracy: 0.4439 - top_3_accuracy: 0.6488\n",
            "Model saved in model_9\n",
            "Epoch 11/15\n",
            "100/100 [==============================] - 64s 643ms/step - loss: 2.3349 - categorical_accuracy: 0.4543 - top_3_accuracy: 0.6665\n",
            "Model saved in model_10\n",
            "Epoch 12/15\n",
            "100/100 [==============================] - 64s 644ms/step - loss: 2.2688 - categorical_accuracy: 0.4701 - top_3_accuracy: 0.6785\n",
            "Model saved in model_11\n",
            "Epoch 13/15\n",
            "100/100 [==============================] - 64s 644ms/step - loss: 2.2294 - categorical_accuracy: 0.4800 - top_3_accuracy: 0.6855\n",
            "Model saved in model_12\n",
            "Epoch 14/15\n",
            "100/100 [==============================] - 64s 644ms/step - loss: 2.1744 - categorical_accuracy: 0.4893 - top_3_accuracy: 0.6979\n",
            "Model saved in model_13\n",
            "Epoch 15/15\n",
            "100/100 [==============================] - 64s 643ms/step - loss: 2.0898 - categorical_accuracy: 0.5114 - top_3_accuracy: 0.7165\n",
            "Model saved in model_14\n"
          ],
          "name": "stdout"
        },
        {
          "output_type": "execute_result",
          "data": {
            "text/plain": [
              "<keras.callbacks.History at 0x7f4f1869c350>"
            ]
          },
          "metadata": {
            "tags": []
          },
          "execution_count": 62
        }
      ]
    },
    {
      "metadata": {
        "id": "06ob2xSfUWUN",
        "colab_type": "code",
        "colab": {
          "base_uri": "https://localhost:8080/",
          "height": 799
        },
        "outputId": "f957a4c7-08a1-4db8-ebc0-8e726e8242e7"
      },
      "cell_type": "code",
      "source": [
        "#модель с другой архитектурой \n",
        "model.fit_generator(\n",
        "    train_iterator(BATCH_SIZE), \n",
        "    steps_per_epoch=STEPS_PER_EPOCH,\n",
        "    epochs=EPOCHS,\n",
        "    callbacks=[ModelSaveCallback(\"model_{}\")],\n",
        "    verbose=1,\n",
        "    initial_epoch=last_finished_epoch\n",
        ")"
      ],
      "execution_count": 79,
      "outputs": [
        {
          "output_type": "stream",
          "text": [
            "Epoch 1/15\n",
            "100/100 [==============================] - 52s 516ms/step - loss: 5.6828 - categorical_accuracy: 0.0157 - top_3_accuracy: 0.0395\n",
            "Model saved in model_0\n",
            "Epoch 2/15\n",
            "100/100 [==============================] - 48s 480ms/step - loss: 4.7095 - categorical_accuracy: 0.0743 - top_3_accuracy: 0.1572\n",
            "Model saved in model_1\n",
            "Epoch 3/15\n",
            "100/100 [==============================] - 48s 479ms/step - loss: 3.9115 - categorical_accuracy: 0.1643 - top_3_accuracy: 0.3145\n",
            "Model saved in model_2\n",
            "Epoch 4/15\n",
            "100/100 [==============================] - 48s 479ms/step - loss: 3.4206 - categorical_accuracy: 0.2382 - top_3_accuracy: 0.4235\n",
            "Model saved in model_3\n",
            "Epoch 5/15\n",
            "100/100 [==============================] - 48s 481ms/step - loss: 3.0926 - categorical_accuracy: 0.2997 - top_3_accuracy: 0.5023\n",
            "Model saved in model_4\n",
            "Epoch 6/15\n",
            "100/100 [==============================] - 48s 478ms/step - loss: 2.8899 - categorical_accuracy: 0.3323 - top_3_accuracy: 0.5406\n",
            "Model saved in model_5\n",
            "Epoch 7/15\n",
            "100/100 [==============================] - 48s 477ms/step - loss: 2.6883 - categorical_accuracy: 0.3769 - top_3_accuracy: 0.5875\n",
            "Model saved in model_6\n",
            "Epoch 8/15\n",
            "100/100 [==============================] - 48s 477ms/step - loss: 2.5634 - categorical_accuracy: 0.4020 - top_3_accuracy: 0.6166\n",
            "Model saved in model_7\n",
            "Epoch 9/15\n",
            "100/100 [==============================] - 48s 477ms/step - loss: 2.4652 - categorical_accuracy: 0.4167 - top_3_accuracy: 0.6351\n",
            "Model saved in model_8\n",
            "Epoch 10/15\n",
            "100/100 [==============================] - 48s 478ms/step - loss: 2.3732 - categorical_accuracy: 0.4374 - top_3_accuracy: 0.6549\n",
            "Model saved in model_9\n",
            "Epoch 11/15\n",
            "100/100 [==============================] - 48s 478ms/step - loss: 2.2718 - categorical_accuracy: 0.4647 - top_3_accuracy: 0.6781\n",
            "Model saved in model_10\n",
            "Epoch 12/15\n",
            "100/100 [==============================] - 48s 477ms/step - loss: 2.2137 - categorical_accuracy: 0.4727 - top_3_accuracy: 0.6904\n",
            "Model saved in model_11\n",
            "Epoch 13/15\n",
            "100/100 [==============================] - 48s 476ms/step - loss: 2.2038 - categorical_accuracy: 0.4791 - top_3_accuracy: 0.6872\n",
            "Model saved in model_12\n",
            "Epoch 14/15\n",
            "100/100 [==============================] - 48s 481ms/step - loss: 2.1239 - categorical_accuracy: 0.4974 - top_3_accuracy: 0.7052\n",
            "Model saved in model_13\n",
            "Epoch 15/15\n",
            "100/100 [==============================] - 48s 481ms/step - loss: 2.0405 - categorical_accuracy: 0.5117 - top_3_accuracy: 0.7174\n",
            "Model saved in model_14\n"
          ],
          "name": "stdout"
        },
        {
          "output_type": "execute_result",
          "data": {
            "text/plain": [
              "<keras.callbacks.History at 0x7f4f19f3ab50>"
            ]
          },
          "metadata": {
            "tags": []
          },
          "execution_count": 79
        }
      ]
    },
    {
      "metadata": {
        "ExecuteTime": {
          "end_time": "2018-11-07T16:22:12.823711Z",
          "start_time": "2018-11-07T16:22:08.154274Z"
        },
        "id": "QqoXQyNiP0La",
        "colab_type": "code",
        "outputId": "7daf3c13-de9a-405e-c1b2-321219860bd3",
        "colab": {
          "base_uri": "https://localhost:8080/",
          "height": 6117
        }
      },
      "cell_type": "code",
      "source": [
        "# fit the model with our eternal generator! лучшая модель на батче = 340 100 эпох 91 модель\n",
        "model.fit_generator(\n",
        "    train_iterator(BATCH_SIZE), \n",
        "    steps_per_epoch=STEPS_PER_EPOCH,\n",
        "    epochs=EPOCHS,\n",
        "    callbacks=[ModelSaveCallback(\"model_{}\")],\n",
        "    verbose=1,\n",
        "    initial_epoch=last_finished_epoch\n",
        ")"
      ],
      "execution_count": 0,
      "outputs": [
        {
          "output_type": "stream",
          "text": [
            "Exception tensorflow.python.framework.errors_impl.CancelledError: CancelledError() in <bound method _Callable.__del__ of <tensorflow.python.client.session._Callable object at 0x7f50a4fe0b90>> ignored\n"
          ],
          "name": "stderr"
        },
        {
          "output_type": "stream",
          "text": [
            "Epoch 1/100\n",
            "100/100 [==============================] - 154s 2s/step - loss: 4.9049 - categorical_accuracy: 0.0635 - top_3_accuracy: 0.1395\n",
            "Model saved in model_0\n",
            "Epoch 2/100\n",
            "100/100 [==============================] - 145s 1s/step - loss: 3.8057 - categorical_accuracy: 0.1905 - top_3_accuracy: 0.3475\n",
            "Model saved in model_1\n",
            "Epoch 3/100\n",
            "100/100 [==============================] - 145s 1s/step - loss: 3.2039 - categorical_accuracy: 0.2867 - top_3_accuracy: 0.4802\n",
            "Model saved in model_2\n",
            "Epoch 4/100\n",
            "100/100 [==============================] - 145s 1s/step - loss: 2.7981 - categorical_accuracy: 0.3614 - top_3_accuracy: 0.5696\n",
            "Model saved in model_3\n",
            "Epoch 5/100\n",
            "100/100 [==============================] - 145s 1s/step - loss: 2.5192 - categorical_accuracy: 0.4181 - top_3_accuracy: 0.6275\n",
            "Model saved in model_4\n",
            "Epoch 6/100\n",
            "100/100 [==============================] - 145s 1s/step - loss: 2.3579 - categorical_accuracy: 0.4535 - top_3_accuracy: 0.6617\n",
            "Model saved in model_5\n",
            "Epoch 7/100\n",
            "100/100 [==============================] - 145s 1s/step - loss: 2.1759 - categorical_accuracy: 0.4941 - top_3_accuracy: 0.6994\n",
            "Model saved in model_6\n",
            "Epoch 8/100\n",
            "100/100 [==============================] - 145s 1s/step - loss: 2.0756 - categorical_accuracy: 0.5081 - top_3_accuracy: 0.7177\n",
            "Model saved in model_7\n",
            "Epoch 9/100\n",
            "100/100 [==============================] - 145s 1s/step - loss: 1.9994 - categorical_accuracy: 0.5274 - top_3_accuracy: 0.7294\n",
            "Model saved in model_8\n",
            "Epoch 10/100\n",
            "100/100 [==============================] - 145s 1s/step - loss: 1.9474 - categorical_accuracy: 0.5379 - top_3_accuracy: 0.7414\n",
            "Model saved in model_9\n",
            "Epoch 11/100\n",
            "100/100 [==============================] - 145s 1s/step - loss: 1.8796 - categorical_accuracy: 0.5530 - top_3_accuracy: 0.7513\n",
            "Model saved in model_10\n",
            "Epoch 12/100\n",
            "100/100 [==============================] - 145s 1s/step - loss: 1.8191 - categorical_accuracy: 0.5628 - top_3_accuracy: 0.7644\n",
            "Model saved in model_11\n",
            "Epoch 13/100\n",
            "100/100 [==============================] - 145s 1s/step - loss: 1.7915 - categorical_accuracy: 0.5704 - top_3_accuracy: 0.7685\n",
            "Model saved in model_12\n",
            "Epoch 14/100\n",
            "100/100 [==============================] - 145s 1s/step - loss: 1.7490 - categorical_accuracy: 0.5774 - top_3_accuracy: 0.7759\n",
            "Model saved in model_13\n",
            "Epoch 15/100\n",
            "100/100 [==============================] - 145s 1s/step - loss: 1.7281 - categorical_accuracy: 0.5852 - top_3_accuracy: 0.7799\n",
            "Model saved in model_14\n",
            "Epoch 16/100\n",
            "100/100 [==============================] - 145s 1s/step - loss: 1.7137 - categorical_accuracy: 0.5876 - top_3_accuracy: 0.7825\n",
            "Model saved in model_15\n",
            "Epoch 17/100\n",
            "100/100 [==============================] - 145s 1s/step - loss: 1.6695 - categorical_accuracy: 0.6001 - top_3_accuracy: 0.7888\n",
            "Model saved in model_16\n",
            "Epoch 18/100\n",
            "100/100 [==============================] - 145s 1s/step - loss: 1.6339 - categorical_accuracy: 0.6062 - top_3_accuracy: 0.7968\n",
            "Model saved in model_17\n",
            "Epoch 19/100\n",
            "100/100 [==============================] - 145s 1s/step - loss: 1.6436 - categorical_accuracy: 0.6008 - top_3_accuracy: 0.7935\n",
            "Model saved in model_18\n",
            "Epoch 20/100\n",
            "100/100 [==============================] - 145s 1s/step - loss: 1.6193 - categorical_accuracy: 0.6111 - top_3_accuracy: 0.7993\n",
            "Model saved in model_19\n",
            "Epoch 21/100\n",
            "100/100 [==============================] - 145s 1s/step - loss: 1.6009 - categorical_accuracy: 0.6106 - top_3_accuracy: 0.7990\n",
            "Model saved in model_20\n",
            "Epoch 22/100\n",
            "100/100 [==============================] - 145s 1s/step - loss: 1.5936 - categorical_accuracy: 0.6164 - top_3_accuracy: 0.8014\n",
            "Model saved in model_21\n",
            "Epoch 23/100\n",
            "100/100 [==============================] - 145s 1s/step - loss: 1.5882 - categorical_accuracy: 0.6160 - top_3_accuracy: 0.8025\n",
            "Model saved in model_22\n",
            "Epoch 24/100\n",
            "100/100 [==============================] - 145s 1s/step - loss: 1.5681 - categorical_accuracy: 0.6177 - top_3_accuracy: 0.8065\n",
            "Model saved in model_23\n",
            "Epoch 25/100\n",
            "100/100 [==============================] - 145s 1s/step - loss: 1.5652 - categorical_accuracy: 0.6239 - top_3_accuracy: 0.8114\n",
            "Model saved in model_24\n",
            "Epoch 26/100\n",
            "100/100 [==============================] - 145s 1s/step - loss: 1.5357 - categorical_accuracy: 0.6252 - top_3_accuracy: 0.8102\n",
            "Model saved in model_25\n",
            "Epoch 27/100\n",
            "100/100 [==============================] - 145s 1s/step - loss: 1.5302 - categorical_accuracy: 0.6290 - top_3_accuracy: 0.8146\n",
            "Model saved in model_26\n",
            "Epoch 28/100\n",
            "100/100 [==============================] - 145s 1s/step - loss: 1.5229 - categorical_accuracy: 0.6272 - top_3_accuracy: 0.8157\n",
            "Model saved in model_27\n",
            "Epoch 29/100\n",
            "100/100 [==============================] - 145s 1s/step - loss: 1.5113 - categorical_accuracy: 0.6316 - top_3_accuracy: 0.8163\n",
            "Model saved in model_28\n",
            "Epoch 30/100\n",
            "100/100 [==============================] - 145s 1s/step - loss: 1.4998 - categorical_accuracy: 0.6341 - top_3_accuracy: 0.8194\n",
            "Model saved in model_29\n",
            "Epoch 31/100\n",
            "100/100 [==============================] - 145s 1s/step - loss: 1.4968 - categorical_accuracy: 0.6340 - top_3_accuracy: 0.8177\n",
            "Model saved in model_30\n",
            "Epoch 32/100\n",
            "100/100 [==============================] - 145s 1s/step - loss: 1.4816 - categorical_accuracy: 0.6349 - top_3_accuracy: 0.8208\n",
            "Model saved in model_31\n",
            "Epoch 33/100\n",
            "100/100 [==============================] - 145s 1s/step - loss: 1.4894 - categorical_accuracy: 0.6404 - top_3_accuracy: 0.8192\n",
            "Model saved in model_32\n",
            "Epoch 34/100\n",
            "100/100 [==============================] - 145s 1s/step - loss: 1.4735 - categorical_accuracy: 0.6424 - top_3_accuracy: 0.8219\n",
            "Model saved in model_33\n",
            "Epoch 35/100\n",
            "100/100 [==============================] - 145s 1s/step - loss: 1.4768 - categorical_accuracy: 0.6392 - top_3_accuracy: 0.8209\n",
            "Model saved in model_34\n",
            "Epoch 36/100\n",
            "100/100 [==============================] - 145s 1s/step - loss: 1.4561 - categorical_accuracy: 0.6458 - top_3_accuracy: 0.8248\n",
            "Model saved in model_35\n",
            "Epoch 37/100\n",
            "100/100 [==============================] - 145s 1s/step - loss: 1.4495 - categorical_accuracy: 0.6476 - top_3_accuracy: 0.8279\n",
            "Model saved in model_36\n",
            "Epoch 38/100\n",
            "100/100 [==============================] - 145s 1s/step - loss: 1.4514 - categorical_accuracy: 0.6441 - top_3_accuracy: 0.8237\n",
            "Model saved in model_37\n",
            "Epoch 39/100\n",
            "100/100 [==============================] - 145s 1s/step - loss: 1.4175 - categorical_accuracy: 0.6526 - top_3_accuracy: 0.8336\n",
            "Model saved in model_38\n",
            "Epoch 40/100\n",
            "100/100 [==============================] - 145s 1s/step - loss: 1.4319 - categorical_accuracy: 0.6477 - top_3_accuracy: 0.8286\n",
            "Model saved in model_39\n",
            "Epoch 41/100\n",
            "100/100 [==============================] - 145s 1s/step - loss: 1.4409 - categorical_accuracy: 0.6491 - top_3_accuracy: 0.8274\n",
            "Model saved in model_40\n",
            "Epoch 42/100\n",
            "100/100 [==============================] - 145s 1s/step - loss: 1.4469 - categorical_accuracy: 0.6458 - top_3_accuracy: 0.8284\n",
            "Model saved in model_41\n",
            "Epoch 43/100\n",
            "100/100 [==============================] - 145s 1s/step - loss: 1.4147 - categorical_accuracy: 0.6560 - top_3_accuracy: 0.8322\n",
            "Model saved in model_42\n",
            "Epoch 44/100\n",
            "100/100 [==============================] - 145s 1s/step - loss: 1.4313 - categorical_accuracy: 0.6502 - top_3_accuracy: 0.8315\n",
            "Model saved in model_43\n",
            "Epoch 45/100\n",
            "100/100 [==============================] - 145s 1s/step - loss: 1.4016 - categorical_accuracy: 0.6536 - top_3_accuracy: 0.8321\n",
            "Model saved in model_44\n",
            "Epoch 46/100\n",
            "100/100 [==============================] - 145s 1s/step - loss: 1.4127 - categorical_accuracy: 0.6511 - top_3_accuracy: 0.8329\n",
            "Model saved in model_45\n",
            "Epoch 47/100\n",
            "100/100 [==============================] - 145s 1s/step - loss: 1.3916 - categorical_accuracy: 0.6573 - top_3_accuracy: 0.8378\n",
            "Model saved in model_46\n",
            "Epoch 48/100\n",
            "100/100 [==============================] - 145s 1s/step - loss: 1.3960 - categorical_accuracy: 0.6571 - top_3_accuracy: 0.8355\n",
            "Model saved in model_47\n",
            "Epoch 49/100\n",
            "100/100 [==============================] - 145s 1s/step - loss: 1.3887 - categorical_accuracy: 0.6591 - top_3_accuracy: 0.8370\n",
            "Model saved in model_48\n",
            "Epoch 50/100\n",
            "100/100 [==============================] - 145s 1s/step - loss: 1.3874 - categorical_accuracy: 0.6585 - top_3_accuracy: 0.8368\n",
            "Model saved in model_49\n",
            "Epoch 51/100\n",
            "100/100 [==============================] - 145s 1s/step - loss: 1.3856 - categorical_accuracy: 0.6636 - top_3_accuracy: 0.8371\n",
            "Model saved in model_50\n",
            "Epoch 52/100\n",
            "100/100 [==============================] - 145s 1s/step - loss: 1.3892 - categorical_accuracy: 0.6571 - top_3_accuracy: 0.8354\n",
            "Model saved in model_51\n",
            "Epoch 53/100\n",
            "100/100 [==============================] - 145s 1s/step - loss: 1.3918 - categorical_accuracy: 0.6571 - top_3_accuracy: 0.8374\n",
            "Model saved in model_52\n",
            "Epoch 54/100\n",
            "100/100 [==============================] - 145s 1s/step - loss: 1.3743 - categorical_accuracy: 0.6633 - top_3_accuracy: 0.8382\n",
            "Model saved in model_53\n",
            "Epoch 55/100\n",
            "100/100 [==============================] - 145s 1s/step - loss: 1.3911 - categorical_accuracy: 0.6578 - top_3_accuracy: 0.8345\n",
            "Model saved in model_54\n",
            "Epoch 56/100\n",
            "100/100 [==============================] - 145s 1s/step - loss: 1.3803 - categorical_accuracy: 0.6653 - top_3_accuracy: 0.8366\n",
            "Model saved in model_55\n",
            "Epoch 57/100\n",
            "100/100 [==============================] - 145s 1s/step - loss: 1.3694 - categorical_accuracy: 0.6635 - top_3_accuracy: 0.8399\n",
            "Model saved in model_56\n",
            "Epoch 58/100\n",
            "100/100 [==============================] - 145s 1s/step - loss: 1.3727 - categorical_accuracy: 0.6647 - top_3_accuracy: 0.8399\n",
            "Model saved in model_57\n",
            "Epoch 59/100\n",
            "100/100 [==============================] - 145s 1s/step - loss: 1.3828 - categorical_accuracy: 0.6599 - top_3_accuracy: 0.8396\n",
            "Model saved in model_58\n",
            "Epoch 60/100\n",
            "100/100 [==============================] - 145s 1s/step - loss: 1.3947 - categorical_accuracy: 0.6586 - top_3_accuracy: 0.8369\n",
            "Model saved in model_59\n",
            "Epoch 61/100\n",
            "100/100 [==============================] - 145s 1s/step - loss: 1.3555 - categorical_accuracy: 0.6664 - top_3_accuracy: 0.8394\n",
            "Model saved in model_60\n",
            "Epoch 62/100\n",
            "100/100 [==============================] - 145s 1s/step - loss: 1.3748 - categorical_accuracy: 0.6658 - top_3_accuracy: 0.8388\n",
            "Model saved in model_61\n",
            "Epoch 63/100\n",
            "100/100 [==============================] - 145s 1s/step - loss: 1.3607 - categorical_accuracy: 0.6655 - top_3_accuracy: 0.8384\n",
            "Model saved in model_62\n",
            "Epoch 64/100\n",
            "100/100 [==============================] - 145s 1s/step - loss: 1.3465 - categorical_accuracy: 0.6693 - top_3_accuracy: 0.8423\n",
            "Model saved in model_63\n",
            "Epoch 65/100\n",
            "100/100 [==============================] - 145s 1s/step - loss: 1.3517 - categorical_accuracy: 0.6700 - top_3_accuracy: 0.8424\n",
            "Model saved in model_64\n",
            "Epoch 66/100\n",
            "100/100 [==============================] - 145s 1s/step - loss: 1.3530 - categorical_accuracy: 0.6668 - top_3_accuracy: 0.8415\n",
            "Model saved in model_65\n",
            "Epoch 67/100\n",
            "100/100 [==============================] - 145s 1s/step - loss: 1.3422 - categorical_accuracy: 0.6730 - top_3_accuracy: 0.8456\n",
            "Model saved in model_66\n",
            "Epoch 68/100\n",
            "100/100 [==============================] - 145s 1s/step - loss: 1.3514 - categorical_accuracy: 0.6674 - top_3_accuracy: 0.8440\n",
            "Model saved in model_67\n",
            "Epoch 69/100\n",
            "100/100 [==============================] - 144s 1s/step - loss: 1.3441 - categorical_accuracy: 0.6691 - top_3_accuracy: 0.8433\n",
            "Model saved in model_68\n",
            "Epoch 70/100\n",
            "100/100 [==============================] - 144s 1s/step - loss: 1.3430 - categorical_accuracy: 0.6702 - top_3_accuracy: 0.8441\n",
            "Model saved in model_69\n",
            "Epoch 71/100\n",
            "100/100 [==============================] - 144s 1s/step - loss: 1.3461 - categorical_accuracy: 0.6702 - top_3_accuracy: 0.8431\n",
            "Model saved in model_70\n",
            "Epoch 72/100\n",
            "100/100 [==============================] - 144s 1s/step - loss: 1.3097 - categorical_accuracy: 0.6742 - top_3_accuracy: 0.8504\n",
            "Model saved in model_71\n",
            "Epoch 73/100\n",
            "100/100 [==============================] - 145s 1s/step - loss: 1.3442 - categorical_accuracy: 0.6725 - top_3_accuracy: 0.8455\n",
            "Model saved in model_72\n",
            "Epoch 74/100\n",
            "100/100 [==============================] - 145s 1s/step - loss: 1.3268 - categorical_accuracy: 0.6756 - top_3_accuracy: 0.8455\n",
            "Model saved in model_73\n",
            "Epoch 75/100\n",
            "100/100 [==============================] - 145s 1s/step - loss: 1.3323 - categorical_accuracy: 0.6719 - top_3_accuracy: 0.8456\n",
            "Model saved in model_74\n",
            "Epoch 76/100\n",
            "100/100 [==============================] - 145s 1s/step - loss: 1.3272 - categorical_accuracy: 0.6749 - top_3_accuracy: 0.8472\n",
            "Model saved in model_75\n",
            "Epoch 77/100\n",
            "100/100 [==============================] - 145s 1s/step - loss: 1.3197 - categorical_accuracy: 0.6719 - top_3_accuracy: 0.8478\n",
            "Model saved in model_76\n",
            "Epoch 78/100\n",
            "100/100 [==============================] - 145s 1s/step - loss: 1.3098 - categorical_accuracy: 0.6759 - top_3_accuracy: 0.8500\n",
            "Model saved in model_77\n",
            "Epoch 79/100\n",
            "100/100 [==============================] - 144s 1s/step - loss: 1.3268 - categorical_accuracy: 0.6738 - top_3_accuracy: 0.8477\n",
            "Model saved in model_78\n",
            "Epoch 80/100\n",
            "100/100 [==============================] - 145s 1s/step - loss: 1.3040 - categorical_accuracy: 0.6784 - top_3_accuracy: 0.8498\n",
            "Model saved in model_79\n",
            "Epoch 81/100\n",
            "100/100 [==============================] - 145s 1s/step - loss: 1.3161 - categorical_accuracy: 0.6749 - top_3_accuracy: 0.8501\n",
            "Model saved in model_80\n",
            "Epoch 82/100\n",
            "100/100 [==============================] - 145s 1s/step - loss: 1.3052 - categorical_accuracy: 0.6763 - top_3_accuracy: 0.8506\n",
            "Model saved in model_81\n",
            "Epoch 83/100\n",
            "100/100 [==============================] - 145s 1s/step - loss: 1.3073 - categorical_accuracy: 0.6756 - top_3_accuracy: 0.8503\n",
            "Model saved in model_82\n",
            "Epoch 84/100\n",
            "100/100 [==============================] - 145s 1s/step - loss: 1.3208 - categorical_accuracy: 0.6767 - top_3_accuracy: 0.8481\n",
            "Model saved in model_83\n",
            "Epoch 85/100\n",
            "100/100 [==============================] - 145s 1s/step - loss: 1.3013 - categorical_accuracy: 0.6803 - top_3_accuracy: 0.8509\n",
            "Model saved in model_84\n",
            "Epoch 86/100\n",
            "100/100 [==============================] - 145s 1s/step - loss: 1.2999 - categorical_accuracy: 0.6789 - top_3_accuracy: 0.8489\n",
            "Model saved in model_85\n",
            "Epoch 87/100\n",
            "100/100 [==============================] - 145s 1s/step - loss: 1.3121 - categorical_accuracy: 0.6773 - top_3_accuracy: 0.8489\n",
            "Model saved in model_86\n",
            "Epoch 88/100\n",
            "100/100 [==============================] - 145s 1s/step - loss: 1.3044 - categorical_accuracy: 0.6782 - top_3_accuracy: 0.8489\n",
            "Model saved in model_87\n",
            "Epoch 89/100\n",
            "100/100 [==============================] - 145s 1s/step - loss: 1.3244 - categorical_accuracy: 0.6739 - top_3_accuracy: 0.8488\n",
            "Model saved in model_88\n",
            "Epoch 90/100\n",
            "100/100 [==============================] - 145s 1s/step - loss: 1.2819 - categorical_accuracy: 0.6800 - top_3_accuracy: 0.8516\n",
            "Model saved in model_89\n",
            "Epoch 91/100\n",
            "100/100 [==============================] - 145s 1s/step - loss: 1.3019 - categorical_accuracy: 0.6764 - top_3_accuracy: 0.8475\n",
            "Model saved in model_90\n",
            "Epoch 92/100\n",
            "100/100 [==============================] - 145s 1s/step - loss: 1.2884 - categorical_accuracy: 0.6824 - top_3_accuracy: 0.8535\n",
            "Model saved in model_91\n",
            "Epoch 93/100\n",
            "100/100 [==============================] - 145s 1s/step - loss: 1.2800 - categorical_accuracy: 0.6804 - top_3_accuracy: 0.8524\n",
            "Model saved in model_92\n",
            "Epoch 94/100\n",
            "100/100 [==============================] - 145s 1s/step - loss: 1.2842 - categorical_accuracy: 0.6756 - top_3_accuracy: 0.8514\n",
            "Model saved in model_93\n",
            "Epoch 95/100\n",
            "100/100 [==============================] - 145s 1s/step - loss: 1.2860 - categorical_accuracy: 0.6794 - top_3_accuracy: 0.8525\n",
            "Model saved in model_94\n",
            "Epoch 96/100\n",
            "  1/100 [..............................] - ETA: 2:21 - loss: 1.4332 - categorical_accuracy: 0.6412 - top_3_accuracy: 0.8529"
          ],
          "name": "stdout"
        },
        {
          "output_type": "error",
          "ename": "ResourceExhaustedError",
          "evalue": "ignored",
          "traceback": [
            "\u001b[0;31m\u001b[0m",
            "\u001b[0;31mResourceExhaustedError\u001b[0mTraceback (most recent call last)",
            "\u001b[0;32m<ipython-input-42-955a77eea415>\u001b[0m in \u001b[0;36m<module>\u001b[0;34m()\u001b[0m\n\u001b[1;32m      5\u001b[0m     \u001b[0mcallbacks\u001b[0m\u001b[0;34m=\u001b[0m\u001b[0;34m[\u001b[0m\u001b[0mModelSaveCallback\u001b[0m\u001b[0;34m(\u001b[0m\u001b[0;34m\"model_{}\"\u001b[0m\u001b[0;34m)\u001b[0m\u001b[0;34m]\u001b[0m\u001b[0;34m,\u001b[0m\u001b[0;34m\u001b[0m\u001b[0m\n\u001b[1;32m      6\u001b[0m     \u001b[0mverbose\u001b[0m\u001b[0;34m=\u001b[0m\u001b[0;36m1\u001b[0m\u001b[0;34m,\u001b[0m\u001b[0;34m\u001b[0m\u001b[0m\n\u001b[0;32m----> 7\u001b[0;31m     \u001b[0minitial_epoch\u001b[0m\u001b[0;34m=\u001b[0m\u001b[0mlast_finished_epoch\u001b[0m\u001b[0;34m\u001b[0m\u001b[0m\n\u001b[0m\u001b[1;32m      8\u001b[0m )\n",
            "\u001b[0;32m/usr/local/lib/python2.7/dist-packages/keras/legacy/interfaces.pyc\u001b[0m in \u001b[0;36mwrapper\u001b[0;34m(*args, **kwargs)\u001b[0m\n\u001b[1;32m     89\u001b[0m                 warnings.warn('Update your `' + object_name + '` call to the ' +\n\u001b[1;32m     90\u001b[0m                               'Keras 2 API: ' + signature, stacklevel=2)\n\u001b[0;32m---> 91\u001b[0;31m             \u001b[0;32mreturn\u001b[0m \u001b[0mfunc\u001b[0m\u001b[0;34m(\u001b[0m\u001b[0;34m*\u001b[0m\u001b[0margs\u001b[0m\u001b[0;34m,\u001b[0m \u001b[0;34m**\u001b[0m\u001b[0mkwargs\u001b[0m\u001b[0;34m)\u001b[0m\u001b[0;34m\u001b[0m\u001b[0m\n\u001b[0m\u001b[1;32m     92\u001b[0m         \u001b[0mwrapper\u001b[0m\u001b[0;34m.\u001b[0m\u001b[0m_original_function\u001b[0m \u001b[0;34m=\u001b[0m \u001b[0mfunc\u001b[0m\u001b[0;34m\u001b[0m\u001b[0m\n\u001b[1;32m     93\u001b[0m         \u001b[0;32mreturn\u001b[0m \u001b[0mwrapper\u001b[0m\u001b[0;34m\u001b[0m\u001b[0m\n",
            "\u001b[0;32m/usr/local/lib/python2.7/dist-packages/keras/engine/training.pyc\u001b[0m in \u001b[0;36mfit_generator\u001b[0;34m(self, generator, steps_per_epoch, epochs, verbose, callbacks, validation_data, validation_steps, class_weight, max_queue_size, workers, use_multiprocessing, shuffle, initial_epoch)\u001b[0m\n\u001b[1;32m   1416\u001b[0m             \u001b[0muse_multiprocessing\u001b[0m\u001b[0;34m=\u001b[0m\u001b[0muse_multiprocessing\u001b[0m\u001b[0;34m,\u001b[0m\u001b[0;34m\u001b[0m\u001b[0m\n\u001b[1;32m   1417\u001b[0m             \u001b[0mshuffle\u001b[0m\u001b[0;34m=\u001b[0m\u001b[0mshuffle\u001b[0m\u001b[0;34m,\u001b[0m\u001b[0;34m\u001b[0m\u001b[0m\n\u001b[0;32m-> 1418\u001b[0;31m             initial_epoch=initial_epoch)\n\u001b[0m\u001b[1;32m   1419\u001b[0m \u001b[0;34m\u001b[0m\u001b[0m\n\u001b[1;32m   1420\u001b[0m     \u001b[0;34m@\u001b[0m\u001b[0minterfaces\u001b[0m\u001b[0;34m.\u001b[0m\u001b[0mlegacy_generator_methods_support\u001b[0m\u001b[0;34m\u001b[0m\u001b[0m\n",
            "\u001b[0;32m/usr/local/lib/python2.7/dist-packages/keras/engine/training_generator.pyc\u001b[0m in \u001b[0;36mfit_generator\u001b[0;34m(model, generator, steps_per_epoch, epochs, verbose, callbacks, validation_data, validation_steps, class_weight, max_queue_size, workers, use_multiprocessing, shuffle, initial_epoch)\u001b[0m\n\u001b[1;32m    215\u001b[0m                 outs = model.train_on_batch(x, y,\n\u001b[1;32m    216\u001b[0m                                             \u001b[0msample_weight\u001b[0m\u001b[0;34m=\u001b[0m\u001b[0msample_weight\u001b[0m\u001b[0;34m,\u001b[0m\u001b[0;34m\u001b[0m\u001b[0m\n\u001b[0;32m--> 217\u001b[0;31m                                             class_weight=class_weight)\n\u001b[0m\u001b[1;32m    218\u001b[0m \u001b[0;34m\u001b[0m\u001b[0m\n\u001b[1;32m    219\u001b[0m                 \u001b[0mouts\u001b[0m \u001b[0;34m=\u001b[0m \u001b[0mto_list\u001b[0m\u001b[0;34m(\u001b[0m\u001b[0mouts\u001b[0m\u001b[0;34m)\u001b[0m\u001b[0;34m\u001b[0m\u001b[0m\n",
            "\u001b[0;32m/usr/local/lib/python2.7/dist-packages/keras/engine/training.pyc\u001b[0m in \u001b[0;36mtrain_on_batch\u001b[0;34m(self, x, y, sample_weight, class_weight)\u001b[0m\n\u001b[1;32m   1215\u001b[0m             \u001b[0mins\u001b[0m \u001b[0;34m=\u001b[0m \u001b[0mx\u001b[0m \u001b[0;34m+\u001b[0m \u001b[0my\u001b[0m \u001b[0;34m+\u001b[0m \u001b[0msample_weights\u001b[0m\u001b[0;34m\u001b[0m\u001b[0m\n\u001b[1;32m   1216\u001b[0m         \u001b[0mself\u001b[0m\u001b[0;34m.\u001b[0m\u001b[0m_make_train_function\u001b[0m\u001b[0;34m(\u001b[0m\u001b[0;34m)\u001b[0m\u001b[0;34m\u001b[0m\u001b[0m\n\u001b[0;32m-> 1217\u001b[0;31m         \u001b[0moutputs\u001b[0m \u001b[0;34m=\u001b[0m \u001b[0mself\u001b[0m\u001b[0;34m.\u001b[0m\u001b[0mtrain_function\u001b[0m\u001b[0;34m(\u001b[0m\u001b[0mins\u001b[0m\u001b[0;34m)\u001b[0m\u001b[0;34m\u001b[0m\u001b[0m\n\u001b[0m\u001b[1;32m   1218\u001b[0m         \u001b[0;32mreturn\u001b[0m \u001b[0munpack_singleton\u001b[0m\u001b[0;34m(\u001b[0m\u001b[0moutputs\u001b[0m\u001b[0;34m)\u001b[0m\u001b[0;34m\u001b[0m\u001b[0m\n\u001b[1;32m   1219\u001b[0m \u001b[0;34m\u001b[0m\u001b[0m\n",
            "\u001b[0;32m/usr/local/lib/python2.7/dist-packages/keras/backend/tensorflow_backend.pyc\u001b[0m in \u001b[0;36m__call__\u001b[0;34m(self, inputs)\u001b[0m\n\u001b[1;32m   2713\u001b[0m                 \u001b[0;32mreturn\u001b[0m \u001b[0mself\u001b[0m\u001b[0;34m.\u001b[0m\u001b[0m_legacy_call\u001b[0m\u001b[0;34m(\u001b[0m\u001b[0minputs\u001b[0m\u001b[0;34m)\u001b[0m\u001b[0;34m\u001b[0m\u001b[0m\n\u001b[1;32m   2714\u001b[0m \u001b[0;34m\u001b[0m\u001b[0m\n\u001b[0;32m-> 2715\u001b[0;31m             \u001b[0;32mreturn\u001b[0m \u001b[0mself\u001b[0m\u001b[0;34m.\u001b[0m\u001b[0m_call\u001b[0m\u001b[0;34m(\u001b[0m\u001b[0minputs\u001b[0m\u001b[0;34m)\u001b[0m\u001b[0;34m\u001b[0m\u001b[0m\n\u001b[0m\u001b[1;32m   2716\u001b[0m         \u001b[0;32melse\u001b[0m\u001b[0;34m:\u001b[0m\u001b[0;34m\u001b[0m\u001b[0m\n\u001b[1;32m   2717\u001b[0m             \u001b[0;32mif\u001b[0m \u001b[0mpy_any\u001b[0m\u001b[0;34m(\u001b[0m\u001b[0mis_tensor\u001b[0m\u001b[0;34m(\u001b[0m\u001b[0mx\u001b[0m\u001b[0;34m)\u001b[0m \u001b[0;32mfor\u001b[0m \u001b[0mx\u001b[0m \u001b[0;32min\u001b[0m \u001b[0minputs\u001b[0m\u001b[0;34m)\u001b[0m\u001b[0;34m:\u001b[0m\u001b[0;34m\u001b[0m\u001b[0m\n",
            "\u001b[0;32m/usr/local/lib/python2.7/dist-packages/keras/backend/tensorflow_backend.pyc\u001b[0m in \u001b[0;36m_call\u001b[0;34m(self, inputs)\u001b[0m\n\u001b[1;32m   2673\u001b[0m             \u001b[0mfetched\u001b[0m \u001b[0;34m=\u001b[0m \u001b[0mself\u001b[0m\u001b[0;34m.\u001b[0m\u001b[0m_callable_fn\u001b[0m\u001b[0;34m(\u001b[0m\u001b[0;34m*\u001b[0m\u001b[0marray_vals\u001b[0m\u001b[0;34m,\u001b[0m \u001b[0mrun_metadata\u001b[0m\u001b[0;34m=\u001b[0m\u001b[0mself\u001b[0m\u001b[0;34m.\u001b[0m\u001b[0mrun_metadata\u001b[0m\u001b[0;34m)\u001b[0m\u001b[0;34m\u001b[0m\u001b[0m\n\u001b[1;32m   2674\u001b[0m         \u001b[0;32melse\u001b[0m\u001b[0;34m:\u001b[0m\u001b[0;34m\u001b[0m\u001b[0m\n\u001b[0;32m-> 2675\u001b[0;31m             \u001b[0mfetched\u001b[0m \u001b[0;34m=\u001b[0m \u001b[0mself\u001b[0m\u001b[0;34m.\u001b[0m\u001b[0m_callable_fn\u001b[0m\u001b[0;34m(\u001b[0m\u001b[0;34m*\u001b[0m\u001b[0marray_vals\u001b[0m\u001b[0;34m)\u001b[0m\u001b[0;34m\u001b[0m\u001b[0m\n\u001b[0m\u001b[1;32m   2676\u001b[0m         \u001b[0;32mreturn\u001b[0m \u001b[0mfetched\u001b[0m\u001b[0;34m[\u001b[0m\u001b[0;34m:\u001b[0m\u001b[0mlen\u001b[0m\u001b[0;34m(\u001b[0m\u001b[0mself\u001b[0m\u001b[0;34m.\u001b[0m\u001b[0moutputs\u001b[0m\u001b[0;34m)\u001b[0m\u001b[0;34m]\u001b[0m\u001b[0;34m\u001b[0m\u001b[0m\n\u001b[1;32m   2677\u001b[0m \u001b[0;34m\u001b[0m\u001b[0m\n",
            "\u001b[0;32m/usr/local/lib/python2.7/dist-packages/tensorflow/python/client/session.pyc\u001b[0m in \u001b[0;36m__call__\u001b[0;34m(self, *args, **kwargs)\u001b[0m\n\u001b[1;32m   1437\u001b[0m           ret = tf_session.TF_SessionRunCallable(\n\u001b[1;32m   1438\u001b[0m               \u001b[0mself\u001b[0m\u001b[0;34m.\u001b[0m\u001b[0m_session\u001b[0m\u001b[0;34m.\u001b[0m\u001b[0m_session\u001b[0m\u001b[0;34m,\u001b[0m \u001b[0mself\u001b[0m\u001b[0;34m.\u001b[0m\u001b[0m_handle\u001b[0m\u001b[0;34m,\u001b[0m \u001b[0margs\u001b[0m\u001b[0;34m,\u001b[0m \u001b[0mstatus\u001b[0m\u001b[0;34m,\u001b[0m\u001b[0;34m\u001b[0m\u001b[0m\n\u001b[0;32m-> 1439\u001b[0;31m               run_metadata_ptr)\n\u001b[0m\u001b[1;32m   1440\u001b[0m         \u001b[0;32mif\u001b[0m \u001b[0mrun_metadata\u001b[0m\u001b[0;34m:\u001b[0m\u001b[0;34m\u001b[0m\u001b[0m\n\u001b[1;32m   1441\u001b[0m           \u001b[0mproto_data\u001b[0m \u001b[0;34m=\u001b[0m \u001b[0mtf_session\u001b[0m\u001b[0;34m.\u001b[0m\u001b[0mTF_GetBuffer\u001b[0m\u001b[0;34m(\u001b[0m\u001b[0mrun_metadata_ptr\u001b[0m\u001b[0;34m)\u001b[0m\u001b[0;34m\u001b[0m\u001b[0m\n",
            "\u001b[0;32m/usr/local/lib/python2.7/dist-packages/tensorflow/python/framework/errors_impl.pyc\u001b[0m in \u001b[0;36m__exit__\u001b[0;34m(self, type_arg, value_arg, traceback_arg)\u001b[0m\n\u001b[1;32m    526\u001b[0m             \u001b[0mNone\u001b[0m\u001b[0;34m,\u001b[0m \u001b[0mNone\u001b[0m\u001b[0;34m,\u001b[0m\u001b[0;34m\u001b[0m\u001b[0m\n\u001b[1;32m    527\u001b[0m             \u001b[0mcompat\u001b[0m\u001b[0;34m.\u001b[0m\u001b[0mas_text\u001b[0m\u001b[0;34m(\u001b[0m\u001b[0mc_api\u001b[0m\u001b[0;34m.\u001b[0m\u001b[0mTF_Message\u001b[0m\u001b[0;34m(\u001b[0m\u001b[0mself\u001b[0m\u001b[0;34m.\u001b[0m\u001b[0mstatus\u001b[0m\u001b[0;34m.\u001b[0m\u001b[0mstatus\u001b[0m\u001b[0;34m)\u001b[0m\u001b[0;34m)\u001b[0m\u001b[0;34m,\u001b[0m\u001b[0;34m\u001b[0m\u001b[0m\n\u001b[0;32m--> 528\u001b[0;31m             c_api.TF_GetCode(self.status.status))\n\u001b[0m\u001b[1;32m    529\u001b[0m     \u001b[0;31m# Delete the underlying status object from memory otherwise it stays alive\u001b[0m\u001b[0;34m\u001b[0m\u001b[0;34m\u001b[0m\u001b[0m\n\u001b[1;32m    530\u001b[0m     \u001b[0;31m# as there is a reference to status from this from the traceback due to\u001b[0m\u001b[0;34m\u001b[0m\u001b[0;34m\u001b[0m\u001b[0m\n",
            "\u001b[0;31mResourceExhaustedError\u001b[0m: OOM when allocating tensor with shape[340,32,128,128] and type float on /job:localhost/replica:0/task:0/device:GPU:0 by allocator GPU_0_bfc\n\t [[{{node training/Adam/gradients/batch_normalization_1/FusedBatchNorm_grad/FusedBatchNormGrad}} = FusedBatchNormGrad[T=DT_FLOAT, _class=[\"loc:@batch_normalization_1/FusedBatchNorm\"], data_format=\"NHWC\", epsilon=0.001, is_training=true, _device=\"/job:localhost/replica:0/task:0/device:GPU:0\"](training/Adam/gradients/batch_normalization_1/cond/Switch_1_grad/cond_grad, elu_1/Select, batch_normalization_1/gamma/read, batch_normalization_1/FusedBatchNorm:3, batch_normalization_1/FusedBatchNorm:4)]]\nHint: If you want to see a list of allocated tensors when OOM happens, add report_tensor_allocations_upon_oom to RunOptions for current allocation info.\n"
          ]
        }
      ]
    },
    {
      "metadata": {
        "id": "4X_CVaSBP0Le",
        "colab_type": "text"
      },
      "cell_type": "markdown",
      "source": [
        "# Score test set"
      ]
    },
    {
      "metadata": {
        "ExecuteTime": {
          "end_time": "2018-11-07T12:18:38.307707Z",
          "start_time": "2018-11-07T12:18:34.929466Z"
        },
        "id": "bxv-BkJoP0Lf",
        "colab_type": "code",
        "outputId": "13893513-0704-4365-db83-ba81cfa7a13f",
        "colab": {
          "base_uri": "https://localhost:8080/",
          "height": 68
        }
      },
      "cell_type": "code",
      "source": [
        "# download test set\n",
        "! KAGGLE_USERNAME=\"bosha7\" KAGGLE_KEY=\"5ad2af8e7aeadb331fff92431a54d056\" kaggle competitions download -c quickdraw-doodle-recognition -f test_simplified.csv"
      ],
      "execution_count": 0,
      "outputs": [
        {
          "output_type": "stream",
          "text": [
            "Downloading test_simplified.csv to /content\n",
            " 93% 55.0M/59.0M [00:00<00:00, 64.8MB/s]\n",
            "100% 59.0M/59.0M [00:00<00:00, 127MB/s] \n"
          ],
          "name": "stdout"
        }
      ]
    },
    {
      "metadata": {
        "ExecuteTime": {
          "end_time": "2018-11-07T16:25:30.169624Z",
          "start_time": "2018-11-07T16:25:30.148875Z"
        },
        "id": "mueTIvn6P0Ll",
        "colab_type": "code",
        "colab": {}
      },
      "cell_type": "code",
      "source": [
        "def test_csv_iterator(batch_size):\n",
        "    with open(\"test_simplified.csv\", \"r\") as f:\n",
        "        batch_keys = []\n",
        "        batch_images = []\n",
        "        f.readline()  # skip header\n",
        "        for line in csv.reader(f, delimiter=',', quotechar='\"'):\n",
        "            batch_keys.append(line[0])\n",
        "            batch_images.append(draw_it(line[2]))\n",
        "            if len(batch_images) == batch_size:\n",
        "                batch_images = np.stack(batch_images, axis=0)\n",
        "                batch_images = np.expand_dims(batch_images, -1)\n",
        "                batch_images = batch_images.astype('float32')\n",
        "                batch_images = batch_images/255-0.5\n",
        "                ### YOUR CODE HERE: normalize batch_images the same way as during training!\n",
        "                yield batch_keys, batch_images\n",
        "                batch_keys = []\n",
        "                batch_images = []\n",
        "        if batch_images:  # last batch\n",
        "            batch_images = np.stack(batch_images, axis=0)\n",
        "            batch_images = np.expand_dims(batch_images, -1)\n",
        "            batch_images = batch_images.astype('float32')\n",
        "            batch_images = batch_images/255-0.5\n",
        "            ### YOUR CODE HERE: normalize batch_images the same way as during training!\n",
        "            yield batch_keys, batch_images"
      ],
      "execution_count": 0,
      "outputs": []
    },
    {
      "metadata": {
        "ExecuteTime": {
          "end_time": "2018-11-07T16:25:32.406415Z",
          "start_time": "2018-11-07T16:25:32.203842Z"
        },
        "id": "snVOAERTP0Lp",
        "colab_type": "code",
        "outputId": "9a6d8515-a955-48e1-815d-27cdc497c170",
        "colab": {
          "base_uri": "https://localhost:8080/",
          "height": 34
        }
      },
      "cell_type": "code",
      "source": [
        "! wc -l test_simplified.csv"
      ],
      "execution_count": 0,
      "outputs": [
        {
          "output_type": "stream",
          "text": [
            "112200 test_simplified.csv\n"
          ],
          "name": "stdout"
        }
      ]
    },
    {
      "metadata": {
        "ExecuteTime": {
          "end_time": "2018-11-07T16:26:30.259083Z",
          "start_time": "2018-11-07T16:25:32.579734Z"
        },
        "scrolled": true,
        "id": "K6Bw0AeXP0Lt",
        "colab_type": "code",
        "outputId": "e713d3f3-bc2b-421b-ac7c-a7f4ae10a240",
        "colab": {
          "base_uri": "https://localhost:8080/",
          "height": 34
        }
      },
      "cell_type": "code",
      "source": [
        "with open(\"submission.csv\", \"w\", buffering=1*1024*1024) as f:\n",
        "    f.write(\"key_id,word\\n\")\n",
        "    for batch_keys, batch_images in tqdm.tqdm(test_csv_iterator(BATCH_SIZE), total=np.ceil(112200./BATCH_SIZE)):\n",
        "        probas = model.predict_proba(batch_images, BATCH_SIZE)\n",
        "        top_3_classes = np.argsort(probas, axis=1)[:, [-1, -2, -3]]\n",
        "        labels = map(lambda x: \" \".join(\"_\".join(class_labels[idx].split()) for idx in x), top_3_classes)\n",
        "        for key, labels in zip(batch_keys, labels):\n",
        "            f.write(key + \",\" + labels + \"\\n\")"
      ],
      "execution_count": 0,
      "outputs": [
        {
          "output_type": "stream",
          "text": [
            "100%|██████████| 330/330.0 [04:06<00:00,  1.54s/it]\n"
          ],
          "name": "stderr"
        }
      ]
    },
    {
      "metadata": {
        "ExecuteTime": {
          "end_time": "2018-11-07T16:27:51.293010Z",
          "start_time": "2018-11-07T16:27:51.111607Z"
        },
        "id": "SBHT3-pmP0Lv",
        "colab_type": "code",
        "outputId": "68dd7c96-c604-44b5-a665-2891055bb83b",
        "colab": {
          "base_uri": "https://localhost:8080/",
          "height": 34
        }
      },
      "cell_type": "code",
      "source": [
        "\n",
        "! wc -l submission.csv"
      ],
      "execution_count": 0,
      "outputs": [
        {
          "output_type": "stream",
          "text": [
            "112200 submission.csv\n"
          ],
          "name": "stdout"
        }
      ]
    },
    {
      "metadata": {
        "ExecuteTime": {
          "end_time": "2018-11-07T13:18:12.630549Z",
          "start_time": "2018-11-07T13:17:59.689315Z"
        },
        "id": "XV9gm1OeP0Ly",
        "colab_type": "code",
        "outputId": "b21098da-190c-4409-aad1-141d688a00c3",
        "colab": {
          "base_uri": "https://localhost:8080/",
          "height": 51
        }
      },
      "cell_type": "code",
      "source": [
        "# submit to kaggle\n",
        "! KAGGLE_USERNAME=\"bosha7\" KAGGLE_KEY=\"5ad2af8e7aeadb331fff92431a54d056\" kaggle competitions submit quickdraw-doodle-recognition -f submission.csv -m \"My precious\""
      ],
      "execution_count": 0,
      "outputs": [
        {
          "output_type": "stream",
          "text": [
            "100% 4.40M/4.40M [00:04<00:00, 1.12MB/s]\n",
            "Successfully submitted to Quick, Draw! Doodle Recognition Challenge"
          ],
          "name": "stdout"
        }
      ]
    },
    {
      "metadata": {
        "id": "0hEnYScpfGLm",
        "colab_type": "code",
        "colab": {}
      },
      "cell_type": "code",
      "source": [
        ""
      ],
      "execution_count": 0,
      "outputs": []
    }
  ]
}